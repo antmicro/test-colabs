{
 "cells": [
  {
   "cell_type": "markdown",
   "id": "5e2bc8b3",
   "metadata": {
    "cell_marker": "\"\"\""
   },
   "source": [
    "![Renode](https://dl.antmicro.com/projects/renode/renode.svg)\n",
    "<table align=\"left\">\n",
    "  <td>\n",
    "    <a target=\"_blank\" href=\"https://colab.research.google.com/github/antmicro/test-colabs/blob/main/boards/96b_nitrogen_hello_world.ipynb\"><img src=\"https://raw.githubusercontent.com/antmicro/test-colabs/main/.static/view-in-colab.png\" />Run in Google Colab</a>\n",
    "  </td>\n",
    "  <td>\n",
    "    <a target=\"_blank\" href=\"https://github.com/antmicro/test-colabs/blob/main/boards/96b_nitrogen_hello_world.ipynb\"><img src=\"https://raw.githubusercontent.com/antmicro/test-colabs/main/.static/view-ipynb.png\" />View ipynb on GitHub</a>\n",
    "  </td>\n",
    "  <td>\n",
    "    <a target=\"_blank\" href=\"https://github.com/antmicro/test-colabs/blob/main/boards/96b_nitrogen_hello_world.py\"><img src=\"https://raw.githubusercontent.com/antmicro/test-colabs/main/.static/view-source.png\" />View Python source on GitHub</a>\n",
    "  </td>\n",
    "</table>"
   ]
  },
  {
   "cell_type": "markdown",
   "id": "14800e47",
   "metadata": {
    "cell_marker": "\"\"\""
   },
   "source": [
    "## Install requirements"
   ]
  },
  {
   "cell_type": "code",
   "execution_count": null,
   "id": "460813e8",
   "metadata": {},
   "outputs": [],
   "source": [
    "! pip install -q git+https://github.com/antmicro/renode-colab-tools.git@tabbed-metrics\n",
    "! pip install -q git+https://github.com/antmicro/renode-run.git@new-features\n",
    "! pip install -q git+https://github.com/antmicro/pyrenode.git@renode-run-experiments\n",
    "! pip install -q robotframework==4.0.1\n",
    "! renode-run download"
   ]
  },
  {
   "cell_type": "markdown",
   "id": "c60e0d1d",
   "metadata": {},
   "source": [
    "## Start Renode"
   ]
  },
  {
   "cell_type": "code",
   "execution_count": null,
   "id": "c8a1a1dc",
   "metadata": {},
   "outputs": [],
   "source": [
    "from pyrenode import connect_renode, get_keywords\n",
    "connect_renode()\n",
    "get_keywords()"
   ]
  },
  {
   "cell_type": "markdown",
   "id": "074fce8d",
   "metadata": {},
   "source": [
    "## Setup a script"
   ]
  },
  {
   "cell_type": "code",
   "execution_count": null,
   "id": "3972e430",
   "metadata": {},
   "outputs": [],
   "source": [
    "%%writefile script.resc\n",
    "\n",
    "using sysbus\n",
    "$name?=\"96b_nitrogen\"\n",
    "mach create $name\n",
    "\n",
    "machine LoadPlatformDescription @https://zephyr-dashboard.renode.io/96b_nitrogen-hello_world.repl\n",
    "machine EnableProfiler $ORIGIN/metrics.dump\n",
    "\n",
    "showAnalyzer sysbus.uart0\n",
    "\n",
    "macro reset\n",
    "\"\"\"\n",
    "    sysbus LoadELF @https://zephyr-dashboard.renode.io/96b_nitrogen-zephyr-hello_world.elf\n",
    "    cpu0 VectorTableOffset `sysbus GetSymbolAddress \"_vector_table\"`\n",
    "\"\"\"\n",
    "\n",
    "runMacro $reset"
   ]
  },
  {
   "cell_type": "markdown",
   "id": "989de2b0",
   "metadata": {},
   "source": [
    "## Run the sample"
   ]
  },
  {
   "cell_type": "code",
   "execution_count": null,
   "id": "62c74991",
   "metadata": {},
   "outputs": [],
   "source": [
    "ExecuteCommand(\"include @script.resc\")\n",
    "CreateTerminalTester(\"sysbus.uart0\", timeout=5)\n",
    "StartEmulation()\n",
    "\n",
    "WaitForLineOnUart(\"Hello World! 96b_nitrogen\")\n",
    "print(ExecuteCommand(\"sysbus.uart0 DumpHistoryBuffer\"))\n",
    "\n",
    "ResetEmulation()"
   ]
  },
  {
   "cell_type": "markdown",
   "id": "f92ec186",
   "metadata": {},
   "source": [
    "## Renode metrics analysis"
   ]
  },
  {
   "cell_type": "code",
   "execution_count": null,
   "id": "fff8bd54",
   "metadata": {},
   "outputs": [],
   "source": [
    "import sys\n",
    "from pathlib import Path\n",
    "sys.path.append(Path('/root/.config/renode/renode-run.path').read_text())\n",
    "\n",
    "from renode_colab_tools import metrics\n",
    "from tools.metrics_analyzer.metrics_parser import MetricsParser\n",
    "metrics.init_notebook_mode(connected=False)\n",
    "parser = MetricsParser('metrics.dump')\n",
    "\n",
    "metrics.display_metrics(parser)"
   ]
  }
 ],
 "metadata": {
  "jupytext": {
   "cell_metadata_filter": "-all",
   "main_language": "python",
   "notebook_metadata_filter": "-all"
  }
 },
 "nbformat": 4,
 "nbformat_minor": 5
}
