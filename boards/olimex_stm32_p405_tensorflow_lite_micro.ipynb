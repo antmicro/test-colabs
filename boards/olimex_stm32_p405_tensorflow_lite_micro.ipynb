{
 "cells": [
  {
   "cell_type": "markdown",
   "id": "b6a806cc",
   "metadata": {
    "cell_marker": "\"\"\""
   },
   "source": [
    "[![Renode](https://dl.antmicro.com/projects/renode/renode.svg)](https://renode.io)\n",
    "\n",
    "[![Run in Google Colab](https://img.shields.io/badge/-Run%20in%20Google%20colab-%23007ded?logo=google-colab&logoColor=white&style=for-the-badge)](https://colab.research.google.com/github/antmicro/test-colabs/blob/main/boards/olimex_stm32_p405_tensorflow_lite_micro.ipynb) [![View ipynb](https://img.shields.io/badge/-View%20ipynb%20source-%23007ded?logo=jupyter&logoColor=white&style=for-the-badge)](https://github.com/antmicro/test-colabs/blob/main/boards/olimex_stm32_p405_tensorflow_lite_micro.ipynb) [![View Python source](https://img.shields.io/badge/-View%20Python%20source-%23007ded?logo=python&logoColor=white&style=for-the-badge)](https://github.com/antmicro/test-colabs/blob/main/boards/olimex_stm32_p405_tensorflow_lite_micro.py)"
   ]
  },
  {
   "cell_type": "markdown",
   "id": "e7d9dd09",
   "metadata": {
    "cell_marker": "\"\"\""
   },
   "source": [
    "## Install requirements"
   ]
  },
  {
   "cell_type": "code",
   "execution_count": null,
   "id": "720314b1",
   "metadata": {},
   "outputs": [],
   "source": [
    "! pip install -q git+https://github.com/antmicro/renode-colab-tools.git\n",
    "! pip install -q git+https://github.com/antmicro/renode-run.git@new-features\n",
    "! pip install -q git+https://github.com/antmicro/pyrenode.git\n",
    "! pip install -q robotframework==4.0.1\n",
    "! renode-run download"
   ]
  },
  {
   "cell_type": "markdown",
   "id": "abd561a6",
   "metadata": {},
   "source": [
    "## Start Renode"
   ]
  },
  {
   "cell_type": "code",
   "execution_count": null,
   "id": "f89f80dc",
   "metadata": {},
   "outputs": [],
   "source": [
    "from pyrenode import connect_renode, get_keywords\n",
    "connect_renode()\n",
    "get_keywords()"
   ]
  },
  {
   "cell_type": "markdown",
   "id": "ec91b1a8",
   "metadata": {},
   "source": [
    "## Setup a script"
   ]
  },
  {
   "cell_type": "code",
   "execution_count": null,
   "id": "e2289fa7",
   "metadata": {},
   "outputs": [],
   "source": [
    "%%writefile script.resc\n",
    "\n",
    "using sysbus\n",
    "$name?=\"olimex_stm32_p405\"\n",
    "mach create $name\n",
    "\n",
    "machine LoadPlatformDescription @https://zephyr-dashboard.renode.io/olimex_stm32_p405-tensorflow_lite_micro.repl\n",
    "machine EnableProfiler $ORIGIN/metrics.dump\n",
    "\n",
    "showAnalyzer sysbus.usart2\n",
    "sysbus.usart2 RecordToAsciinema $ORIGIN/output.asciinema\n",
    "\n",
    "macro reset\n",
    "\"\"\"\n",
    "    sysbus LoadELF @https://zephyr-dashboard.renode.io/olimex_stm32_p405-zephyr-tensorflow_lite_micro.elf\n",
    "    cpu0 VectorTableOffset `sysbus GetSymbolAddress \"_vector_table\"`\n",
    "\"\"\"\n",
    "\n",
    "runMacro $reset"
   ]
  },
  {
   "cell_type": "markdown",
   "id": "0ac10ea2",
   "metadata": {},
   "source": [
    "## Run the sample"
   ]
  },
  {
   "cell_type": "code",
   "execution_count": null,
   "id": "af818c6f",
   "metadata": {},
   "outputs": [],
   "source": [
    "ExecuteCommand(\"include @script.resc\")\n",
    "CreateTerminalTester(\"sysbus.usart2\", timeout=15)\n",
    "StartEmulation()\n",
    "\n",
    "WaitForLineOnUart(\"x_value: .* y_value: .*\", treatAsRegex=True)\n",
    "WaitForLineOnUart(\"x_value: .* y_value: .*\", treatAsRegex=True)\n",
    "WaitForLineOnUart(\"x_value: .* y_value: .*\", treatAsRegex=True)\n",
    "WaitForLineOnUart(\"x_value: .* y_value: .*\", treatAsRegex=True)\n",
    "\n",
    "ResetEmulation()"
   ]
  },
  {
   "cell_type": "markdown",
   "id": "84b9afd3",
   "metadata": {},
   "source": [
    "## UART output"
   ]
  },
  {
   "cell_type": "code",
   "execution_count": null,
   "id": "b0a1541e",
   "metadata": {},
   "outputs": [],
   "source": [
    "from renode_colab_tools import asciinema\n",
    "asciinema.display_asciicast('output.asciinema')"
   ]
  },
  {
   "cell_type": "markdown",
   "id": "ea64186a",
   "metadata": {},
   "source": [
    "## Renode metrics analysis"
   ]
  },
  {
   "cell_type": "code",
   "execution_count": null,
   "id": "976bfb87",
   "metadata": {},
   "outputs": [],
   "source": [
    "import sys\n",
    "from pathlib import Path\n",
    "sys.path.append(Path('/root/.config/renode/renode-run.path').read_text())\n",
    "\n",
    "from renode_colab_tools import metrics\n",
    "from tools.metrics_analyzer.metrics_parser import MetricsParser\n",
    "metrics.init_notebook_mode(connected=False)\n",
    "parser = MetricsParser('metrics.dump')\n",
    "\n",
    "metrics.display_metrics(parser)"
   ]
  }
 ],
 "metadata": {
  "jupytext": {
   "cell_metadata_filter": "-all",
   "main_language": "python",
   "notebook_metadata_filter": "-all"
  }
 },
 "nbformat": 4,
 "nbformat_minor": 5
}
