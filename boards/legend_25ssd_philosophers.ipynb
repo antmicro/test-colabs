{
 "cells": [
  {
   "cell_type": "markdown",
   "id": "5876856b",
   "metadata": {
    "cell_marker": "\"\"\""
   },
   "source": [
    "[![Renode](https://dl.antmicro.com/projects/renode/renode.svg)](https://renode.io)\n",
    "\n",
    "[![Run in Google Colab](https://img.shields.io/badge/-Run%20in%20Google%20colab-%23007ded?logo=google-colab&logoColor=white&style=for-the-badge)](https://colab.research.google.com/github/antmicro/test-colabs/blob/main/boards/legend_25ssd_philosophers.ipynb) [![View ipynb](https://img.shields.io/badge/-View%20ipynb%20source-%23007ded?logo=jupyter&logoColor=white&style=for-the-badge)](https://github.com/antmicro/test-colabs/blob/main/boards/legend_25ssd_philosophers.ipynb) [![View Python source](https://img.shields.io/badge/-View%20Python%20source-%23007ded?logo=python&logoColor=white&style=for-the-badge)](https://github.com/antmicro/test-colabs/blob/main/boards/legend_25ssd_philosophers.py)"
   ]
  },
  {
   "cell_type": "markdown",
   "id": "730d23f3",
   "metadata": {
    "cell_marker": "\"\"\""
   },
   "source": [
    "## Install requirements"
   ]
  },
  {
   "cell_type": "code",
   "execution_count": null,
   "id": "03f1ca71",
   "metadata": {},
   "outputs": [],
   "source": [
    "! pip install -q git+https://github.com/antmicro/renode-colab-tools.git\n",
    "! pip install -q git+https://github.com/antmicro/renode-run.git\n",
    "! pip install -q git+https://github.com/antmicro/pyrenode.git\n",
    "! renode-run download"
   ]
  },
  {
   "cell_type": "markdown",
   "id": "7507f2b1",
   "metadata": {},
   "source": [
    "## Start Renode"
   ]
  },
  {
   "cell_type": "code",
   "execution_count": null,
   "id": "3ea20bb5",
   "metadata": {},
   "outputs": [],
   "source": [
    "from pyrenode import connect_renode, get_keywords\n",
    "connect_renode()\n",
    "get_keywords()"
   ]
  },
  {
   "cell_type": "markdown",
   "id": "39f7a3a7",
   "metadata": {},
   "source": [
    "## Setup a script"
   ]
  },
  {
   "cell_type": "code",
   "execution_count": null,
   "id": "0ac6d809",
   "metadata": {},
   "outputs": [],
   "source": [
    "%%writefile script.resc\n",
    "\n",
    "using sysbus\n",
    "$name?=\"legend_25ssd\"\n",
    "mach create $name\n",
    "\n",
    "machine LoadPlatformDescription @https://zephyr-dashboard.renode.io/zephyr_sim/25812289779f471143cf1a2cc34c245c603bd941/a62db5c9be07ce1bc43c383460194ee0fbc9ee72/legend_25ssd/philosophers/philosophers.repl\n",
    "machine EnableProfiler $ORIGIN/metrics.dump\n",
    "\n",
    "showAnalyzer sysbus.usart1\n",
    "sysbus.usart1 RecordToAsciinema $ORIGIN/output.asciinema\n",
    "\n",
    "macro reset\n",
    "\"\"\"\n",
    "    sysbus LoadELF @https://zephyr-dashboard.renode.io/zephyr/25812289779f471143cf1a2cc34c245c603bd941/legend_25ssd/philosophers/philosophers.elf\n",
    "    cpu0 VectorTableOffset `sysbus GetSymbolAddress \"_vector_table\"`\n",
    "\"\"\"\n",
    "\n",
    "runMacro $reset"
   ]
  },
  {
   "cell_type": "markdown",
   "id": "f1cc210d",
   "metadata": {},
   "source": [
    "## Run the sample"
   ]
  },
  {
   "cell_type": "code",
   "execution_count": null,
   "id": "cf188b65",
   "metadata": {},
   "outputs": [],
   "source": [
    "ExecuteScript(\"script.resc\")\n",
    "CreateTerminalTester(\"sysbus.usart1\", timeout=5)\n",
    "StartEmulation()\n",
    "\n",
    "WaitForLineOnUart(\"Philosopher 0.*THINKING\", treatAsRegex=True)\n",
    "WaitForLineOnUart(\"Philosopher 0.*HOLDING\", treatAsRegex=True)\n",
    "WaitForLineOnUart(\"Philosopher 0.*EATING\", treatAsRegex=True)\n",
    "\n",
    "ResetEmulation()"
   ]
  },
  {
   "cell_type": "markdown",
   "id": "57fe52ef",
   "metadata": {},
   "source": [
    "## UART output"
   ]
  },
  {
   "cell_type": "code",
   "execution_count": null,
   "id": "9795b1d8",
   "metadata": {},
   "outputs": [],
   "source": [
    "from renode_colab_tools import asciinema\n",
    "asciinema.display_asciicast('output.asciinema')"
   ]
  },
  {
   "cell_type": "markdown",
   "id": "044a5172",
   "metadata": {},
   "source": [
    "## Renode metrics analysis"
   ]
  },
  {
   "cell_type": "code",
   "execution_count": null,
   "id": "7e1a4716",
   "metadata": {},
   "outputs": [],
   "source": [
    "import sys\n",
    "from pathlib import Path\n",
    "sys.path.append(Path('/root/.config/renode/renode-run.path').read_text())\n",
    "\n",
    "from renode_colab_tools import metrics\n",
    "from tools.metrics_analyzer.metrics_parser import MetricsParser\n",
    "metrics.init_notebook_mode(connected=False)\n",
    "parser = MetricsParser('metrics.dump')\n",
    "\n",
    "metrics.display_metrics(parser)"
   ]
  }
 ],
 "metadata": {
  "jupytext": {
   "cell_metadata_filter": "-all",
   "main_language": "python",
   "notebook_metadata_filter": "-all"
  },
  "kernelspec": {
   "display_name": "Python 3",
   "name": "python3"
  },
  "language_info": {
   "name": "python"
  }
 },
 "nbformat": 4,
 "nbformat_minor": 5
}
