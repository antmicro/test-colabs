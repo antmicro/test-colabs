{
 "cells": [
  {
   "cell_type": "markdown",
   "id": "2a9f0089",
   "metadata": {
    "cell_marker": "\"\"\""
   },
   "source": [
    "[![Renode](https://dl.antmicro.com/projects/renode/renode.svg)](https://renode.io)\n",
    "\n",
    "[![Run in Google Colab](https://img.shields.io/badge/-Run%20in%20Google%20colab-%23007ded?logo=google-colab&logoColor=white&style=for-the-badge)](https://colab.research.google.com/github/antmicro/test-colabs/blob/main/boards/qemu_riscv64_qemu_virt_riscv64_smp_kenning-zephyr-runtime-iree.ipynb) [![View ipynb](https://img.shields.io/badge/-View%20ipynb%20source-%23007ded?logo=jupyter&logoColor=white&style=for-the-badge)](https://github.com/antmicro/test-colabs/blob/main/boards/qemu_riscv64_qemu_virt_riscv64_smp_kenning-zephyr-runtime-iree.ipynb) [![View Python source](https://img.shields.io/badge/-View%20Python%20source-%23007ded?logo=python&logoColor=white&style=for-the-badge)](https://github.com/antmicro/test-colabs/blob/main/boards/qemu_riscv64_qemu_virt_riscv64_smp_kenning-zephyr-runtime-iree.py)"
   ]
  },
  {
   "cell_type": "markdown",
   "id": "2dde826d",
   "metadata": {
    "cell_marker": "\"\"\""
   },
   "source": [
    "## Install requirements"
   ]
  },
  {
   "cell_type": "code",
   "execution_count": null,
   "id": "062a77d4",
   "metadata": {},
   "outputs": [],
   "source": [
    "! pip install -q git+https://github.com/antmicro/renode-colab-tools.git\n",
    "! pip install -q git+https://github.com/antmicro/renode-run.git\n",
    "! pip install -q git+https://github.com/antmicro/pyrenode.git\n",
    "! renode-run download"
   ]
  },
  {
   "cell_type": "markdown",
   "id": "d96daef4",
   "metadata": {},
   "source": [
    "## Start Renode"
   ]
  },
  {
   "cell_type": "code",
   "execution_count": null,
   "id": "8ec54a06",
   "metadata": {},
   "outputs": [],
   "source": [
    "from pyrenode import connect_renode, get_keywords\n",
    "connect_renode()\n",
    "get_keywords()"
   ]
  },
  {
   "cell_type": "markdown",
   "id": "220535e0",
   "metadata": {},
   "source": [
    "## Setup a script"
   ]
  },
  {
   "cell_type": "code",
   "execution_count": null,
   "id": "59102ef2",
   "metadata": {},
   "outputs": [],
   "source": [
    "%%writefile script.resc\n",
    "\n",
    "using sysbus\n",
    "$name?=\"qemu_riscv64_qemu_virt_riscv64_smp\"\n",
    "mach create $name\n",
    "\n",
    "machine LoadPlatformDescription @https://zephyr-dashboard.renode.io/zephyr_sim/29197ac9633c2542fd0c9b63639af1f75462844e/cb8e70c557b089373bca37e93d3af87f9392dbce/qemu_riscv64_qemu_virt_riscv64_smp/kenning-zephyr-runtime-iree/kenning-zephyr-runtime-iree.repl\n",
    "machine EnableProfiler $ORIGIN/metrics.dump\n",
    "\n",
    "showAnalyzer sysbus.uart0\n",
    "sysbus.uart0 RecordToAsciinema $ORIGIN/output.asciinema\n",
    "\n",
    "macro reset\n",
    "\"\"\"\n",
    "    sysbus LoadELF @https://zephyr-dashboard.renode.io/zephyr/29197ac9633c2542fd0c9b63639af1f75462844e/qemu_riscv64_qemu_virt_riscv64_smp/kenning-zephyr-runtime-iree/kenning-zephyr-runtime-iree.elf\n",
    "    cpu1 IsHalted true\n",
    "    cpu2 IsHalted true\n",
    "    cpu3 IsHalted true\n",
    "    cpu4 IsHalted true\n",
    "    cpu5 IsHalted true\n",
    "    cpu6 IsHalted true\n",
    "    cpu7 IsHalted true\n",
    "\"\"\"\n",
    "\n",
    "runMacro $reset"
   ]
  },
  {
   "cell_type": "markdown",
   "id": "6b05ec44",
   "metadata": {},
   "source": [
    "## Run the sample"
   ]
  },
  {
   "cell_type": "code",
   "execution_count": null,
   "id": "915fc426",
   "metadata": {},
   "outputs": [],
   "source": [
    "ExecuteScript(\"script.resc\")\n",
    "CreateTerminalTester(\"sysbus.uart0\", timeout=5)\n",
    "\n",
    "WaitForLineOnUart(\"\\*\\*\\* Booting Zephyr OS build.+29197ac9633c \\*\\*\\*\", treatAsRegex=True)\n",
    "\n",
    "WaitForLineOnUart(\"I: model output: [wing: 213.957657, ring: 80.423126, slope: 113.229385, negative: 158.669312]\")\n",
    "WaitForLineOnUart(\"I: model output: [wing: 162.148727, ring: 140.959763, slope: 149.957062, negative: 236.156754]\")\n",
    "WaitForLineOnUart(\"I: model output: [wing: 188.821198, ring: 250.954285, slope: 465.087341, negative: 329.155609]\")\n",
    "WaitForLineOnUart(\"I: model output: [wing: 338.350342, ring: 124.087769, slope: 176.398407, negative: 253.115158]\")\n",
    "WaitForLineOnUart(\"I: model output: [wing: -4.008126, ring: 17.447975, slope: -7.546309, negative: 11.472969]\")\n",
    "WaitForLineOnUart(\"I: model output: [wing: 92.145882, ring: 120.856918, slope: 199.117325, negative: 148.276291]\")\n",
    "WaitForLineOnUart(\"I: model output: [wing: 48.781994, ring: -10.816508, slope: 2.117262, negative: 8.108255]\")\n",
    "WaitForLineOnUart(\"I: model output: [wing: 409.882996, ring: 152.557037, slope: 218.346588, negative: 307.647278]\")\n",
    "WaitForLineOnUart(\"I: model output: [wing: 131.864792, ring: 56.820179, slope: 77.920105, negative: 98.029961]\")\n",
    "WaitForLineOnUart(\"I: model output: [wing: 111.868904, ring: 157.771606, slope: 303.319824, negative: 198.856445]\")\n",
    "WaitForLineOnUart(\"I: inference done\")\n",
    "\n",
    "ResetEmulation()"
   ]
  },
  {
   "cell_type": "markdown",
   "id": "3cc29aaf",
   "metadata": {},
   "source": [
    "## UART output"
   ]
  },
  {
   "cell_type": "code",
   "execution_count": null,
   "id": "06f581fa",
   "metadata": {},
   "outputs": [],
   "source": [
    "from renode_colab_tools import asciinema\n",
    "asciinema.display_asciicast('output.asciinema')"
   ]
  },
  {
   "cell_type": "markdown",
   "id": "5fce2d23",
   "metadata": {},
   "source": [
    "## Renode metrics analysis"
   ]
  },
  {
   "cell_type": "code",
   "execution_count": null,
   "id": "a424eeab",
   "metadata": {},
   "outputs": [],
   "source": [
    "import sys\n",
    "from pathlib import Path\n",
    "from renode_run import get_default_renode_path\n",
    "sys.path.append(str(Path(get_default_renode_path()).parent))\n",
    "\n",
    "from renode_colab_tools import metrics\n",
    "from tools.metrics_analyzer.metrics_parser import MetricsParser\n",
    "metrics.init_notebook_mode(connected=False)\n",
    "parser = MetricsParser('metrics.dump')\n",
    "\n",
    "metrics.display_metrics(parser)"
   ]
  }
 ],
 "metadata": {
  "jupytext": {
   "cell_metadata_filter": "-all",
   "main_language": "python",
   "notebook_metadata_filter": "-all"
  },
  "kernelspec": {
   "display_name": "Python 3",
   "name": "python3"
  },
  "language_info": {
   "name": "python"
  }
 },
 "nbformat": 4,
 "nbformat_minor": 5
}
