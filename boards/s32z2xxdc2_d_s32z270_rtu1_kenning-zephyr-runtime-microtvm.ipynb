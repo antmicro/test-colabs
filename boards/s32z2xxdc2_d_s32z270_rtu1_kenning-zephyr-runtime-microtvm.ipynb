{
 "cells": [
  {
   "cell_type": "markdown",
   "id": "8118e0b8",
   "metadata": {
    "cell_marker": "\"\"\""
   },
   "source": [
    "[![Renode](https://dl.antmicro.com/projects/renode/renode.svg)](https://renode.io)\n",
    "\n",
    "[![Run in Google Colab](https://img.shields.io/badge/-Run%20in%20Google%20colab-%23007ded?logo=google-colab&logoColor=white&style=for-the-badge)](https://colab.research.google.com/github/antmicro/test-colabs/blob/main/boards/s32z2xxdc2_d_s32z270_rtu1_kenning-zephyr-runtime-microtvm.ipynb) [![View ipynb](https://img.shields.io/badge/-View%20ipynb%20source-%23007ded?logo=jupyter&logoColor=white&style=for-the-badge)](https://github.com/antmicro/test-colabs/blob/main/boards/s32z2xxdc2_d_s32z270_rtu1_kenning-zephyr-runtime-microtvm.ipynb) [![View Python source](https://img.shields.io/badge/-View%20Python%20source-%23007ded?logo=python&logoColor=white&style=for-the-badge)](https://github.com/antmicro/test-colabs/blob/main/boards/s32z2xxdc2_d_s32z270_rtu1_kenning-zephyr-runtime-microtvm.py)"
   ]
  },
  {
   "cell_type": "markdown",
   "id": "153cdd20",
   "metadata": {
    "cell_marker": "\"\"\""
   },
   "source": [
    "## Install requirements"
   ]
  },
  {
   "cell_type": "code",
   "execution_count": null,
   "id": "12b7dfcf",
   "metadata": {},
   "outputs": [],
   "source": [
    "! pip install -q git+https://github.com/antmicro/renode-colab-tools.git\n",
    "! pip install -q git+https://github.com/antmicro/renode-run.git\n",
    "! pip install -q git+https://github.com/antmicro/pyrenode.git\n",
    "! renode-run download"
   ]
  },
  {
   "cell_type": "markdown",
   "id": "8704d3b5",
   "metadata": {},
   "source": [
    "## Start Renode"
   ]
  },
  {
   "cell_type": "code",
   "execution_count": null,
   "id": "5cd2461f",
   "metadata": {},
   "outputs": [],
   "source": [
    "from pyrenode import connect_renode, get_keywords\n",
    "connect_renode()\n",
    "get_keywords()"
   ]
  },
  {
   "cell_type": "markdown",
   "id": "83c7dbd6",
   "metadata": {},
   "source": [
    "## Setup a script"
   ]
  },
  {
   "cell_type": "code",
   "execution_count": null,
   "id": "14ca1112",
   "metadata": {},
   "outputs": [],
   "source": [
    "%%writefile script.resc\n",
    "\n",
    "using sysbus\n",
    "$name?=\"s32z2xxdc2_d_s32z270_rtu1\"\n",
    "mach create $name\n",
    "\n",
    "machine LoadPlatformDescription @https://zephyr-dashboard.renode.io/zephyr_sim/99adbadad5a2ccd70ed7e7a483b7615bd043d999/b672f64553038487a18982117c723859240f277e/s32z2xxdc2_d_s32z270_rtu1/kenning-zephyr-runtime-microtvm/kenning-zephyr-runtime-microtvm.repl\n",
    "machine EnableProfiler $ORIGIN/metrics.dump\n",
    "\n",
    "showAnalyzer sysbus.uart9\n",
    "sysbus.uart9 RecordToAsciinema $ORIGIN/output.asciinema\n",
    "\n",
    "macro reset\n",
    "\"\"\"\n",
    "    sysbus LoadELF @https://zephyr-dashboard.renode.io/zephyr/99adbadad5a2ccd70ed7e7a483b7615bd043d999/s32z2xxdc2_d_s32z270_rtu1/kenning-zephyr-runtime-microtvm/kenning-zephyr-runtime-microtvm.elf\n",
    "    cpu1 IsHalted true\n",
    "    cpu2 IsHalted true\n",
    "    cpu3 IsHalted true\n",
    "\"\"\"\n",
    "\n",
    "runMacro $reset"
   ]
  },
  {
   "cell_type": "markdown",
   "id": "6b4f0464",
   "metadata": {},
   "source": [
    "## Run the sample"
   ]
  },
  {
   "cell_type": "code",
   "execution_count": null,
   "id": "4a249ccc",
   "metadata": {},
   "outputs": [],
   "source": [
    "ExecuteScript(\"script.resc\")\n",
    "CreateTerminalTester(\"sysbus.uart9\", timeout=5)\n",
    "\n",
    "WaitForLineOnUart(\"\\*\\*\\* Booting Zephyr OS build.+99adbadad5a2 \\*\\*\\*\", treatAsRegex=True)\n",
    "\n",
    "WaitForLineOnUart(\"I: model output: [wing: 1.000000, ring: 0.000000, slope: 0.000000, negative: 0.000000]\")\n",
    "WaitForLineOnUart(\"I: model output: [wing: 0.000000, ring: 0.000000, slope: 0.000000, negative: 1.000000]\")\n",
    "WaitForLineOnUart(\"I: model output: [wing: 0.000000, ring: 0.000000, slope: 1.000000, negative: 0.000000]\")\n",
    "WaitForLineOnUart(\"I: model output: [wing: 1.000000, ring: 0.000000, slope: 0.000000, negative: 0.000000]\")\n",
    "WaitForLineOnUart(\"I: model output: [wing: 0.000000, ring: 0.997465, slope: 0.000000, negative: 0.002535]\")\n",
    "WaitForLineOnUart(\"I: model output: [wing: 0.000000, ring: 0.000000, slope: 1.000000, negative: 0.000000]\")\n",
    "WaitForLineOnUart(\"I: model output: [wing: 1.000000, ring: 0.000000, slope: 0.000000, negative: 0.000000]\")\n",
    "WaitForLineOnUart(\"I: model output: [wing: 1.000000, ring: 0.000000, slope: 0.000000, negative: 0.000000]\")\n",
    "WaitForLineOnUart(\"I: model output: [wing: 1.000000, ring: 0.000000, slope: 0.000000, negative: 0.000000]\")\n",
    "WaitForLineOnUart(\"I: model output: [wing: 0.000000, ring: 0.000000, slope: 1.000000, negative: 0.000000]\")\n",
    "WaitForLineOnUart(\"I: inference done\")\n",
    "\n",
    "ResetEmulation()"
   ]
  },
  {
   "cell_type": "markdown",
   "id": "1d28c8b1",
   "metadata": {},
   "source": [
    "## UART output"
   ]
  },
  {
   "cell_type": "code",
   "execution_count": null,
   "id": "76571848",
   "metadata": {},
   "outputs": [],
   "source": [
    "from renode_colab_tools import asciinema\n",
    "asciinema.display_asciicast('output.asciinema')"
   ]
  },
  {
   "cell_type": "markdown",
   "id": "9f960f5b",
   "metadata": {},
   "source": [
    "## Renode metrics analysis"
   ]
  },
  {
   "cell_type": "code",
   "execution_count": null,
   "id": "277a1bf2",
   "metadata": {},
   "outputs": [],
   "source": [
    "import sys\n",
    "from pathlib import Path\n",
    "from renode_run import get_default_renode_path\n",
    "sys.path.append(str(Path(get_default_renode_path()).parent))\n",
    "\n",
    "from renode_colab_tools import metrics\n",
    "from tools.metrics_analyzer.metrics_parser import MetricsParser\n",
    "metrics.init_notebook_mode(connected=False)\n",
    "parser = MetricsParser('metrics.dump')\n",
    "\n",
    "metrics.display_metrics(parser)"
   ]
  }
 ],
 "metadata": {
  "jupytext": {
   "cell_metadata_filter": "-all",
   "main_language": "python",
   "notebook_metadata_filter": "-all"
  },
  "kernelspec": {
   "display_name": "Python 3",
   "name": "python3"
  },
  "language_info": {
   "name": "python"
  }
 },
 "nbformat": 4,
 "nbformat_minor": 5
}
