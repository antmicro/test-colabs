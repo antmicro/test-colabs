{
 "cells": [
  {
   "cell_type": "markdown",
   "id": "cfee2d8f",
   "metadata": {
    "cell_marker": "\"\"\""
   },
   "source": [
    "[![Renode](https://dl.antmicro.com/projects/renode/renode.svg)](https://renode.io)\n",
    "\n",
    "[![Run in Google Colab](https://img.shields.io/badge/-Run%20in%20Google%20colab-%23007ded?logo=google-colab&logoColor=white&style=for-the-badge)](https://colab.research.google.com/github/antmicro/test-colabs/blob/main/boards/nucleo_h753zi_philosophers.ipynb) [![View ipynb](https://img.shields.io/badge/-View%20ipynb%20source-%23007ded?logo=jupyter&logoColor=white&style=for-the-badge)](https://github.com/antmicro/test-colabs/blob/main/boards/nucleo_h753zi_philosophers.ipynb) [![View Python source](https://img.shields.io/badge/-View%20Python%20source-%23007ded?logo=python&logoColor=white&style=for-the-badge)](https://github.com/antmicro/test-colabs/blob/main/boards/nucleo_h753zi_philosophers.py)"
   ]
  },
  {
   "cell_type": "markdown",
   "id": "b2b3bef5",
   "metadata": {
    "cell_marker": "\"\"\""
   },
   "source": [
    "## Install requirements"
   ]
  },
  {
   "cell_type": "code",
   "execution_count": null,
   "id": "204fbfd2",
   "metadata": {},
   "outputs": [],
   "source": [
    "! pip install -q git+https://github.com/antmicro/renode-colab-tools.git\n",
    "! pip install -q git+https://github.com/antmicro/renode-run.git\n",
    "! pip install -q git+https://github.com/antmicro/pyrenode3.git\n",
    "! renode-run download --renode-variant dotnet-portable"
   ]
  },
  {
   "cell_type": "markdown",
   "id": "12d49653",
   "metadata": {},
   "source": [
    "## Start Renode"
   ]
  },
  {
   "cell_type": "code",
   "execution_count": null,
   "id": "d1cf9437",
   "metadata": {},
   "outputs": [],
   "source": [
    "import os\n",
    "from renode_run import get_default_renode_path\n",
    "from renode_run.utils import RenodeVariant\n",
    "\n",
    "os.environ['PYRENODE_RUNTIME'] = 'coreclr'\n",
    "os.environ['PYRENODE_BIN'] = get_default_renode_path(variant=RenodeVariant.DOTNET_PORTABLE)\n",
    "\n",
    "from pyrenode3.wrappers import Emulation, Monitor, TerminalTester, LEDTester\n",
    "from Antmicro.Renode.Peripherals.UART import UARTBackend\n",
    "from Antmicro.Renode.Analyzers import LoggingUartAnalyzer\n",
    "from System import String\n",
    "\n",
    "currentDirectory = os.getcwd()\n",
    "emulation = Emulation()\n",
    "monitor = Monitor()\n",
    "emulation.BackendManager.SetPreferredAnalyzer(UARTBackend, LoggingUartAnalyzer)"
   ]
  },
  {
   "cell_type": "markdown",
   "id": "decf60e3",
   "metadata": {},
   "source": [
    "## Setup a script"
   ]
  },
  {
   "cell_type": "code",
   "execution_count": null,
   "id": "d1e4b5ac",
   "metadata": {},
   "outputs": [],
   "source": [
    "%%writefile script.resc\n",
    "logFile $ORIGIN/philosophers-renode.log True\n",
    "\n",
    "$name?=\"nucleo_h753zi\"\n",
    "$bin?=@https://zephyr-dashboard.renode.io/zephyr/6353ba88b6cd5c2969215d601947bd89f651375d/nucleo_h753zi/philosophers/philosophers.elf\n",
    "$repl?=$ORIGIN/philosophers.repl\n",
    "\n",
    "using sysbus\n",
    "mach create $name\n",
    "\n",
    "machine LoadPlatformDescription @https://zephyr-dashboard.renode.io/zephyr_sim/6353ba88b6cd5c2969215d601947bd89f651375d/7ef505b300bbcc32e104ae2e636d21f7e2fec465/nucleo_h753zi/philosophers/philosophers.repl\n",
    "machine EnableProfiler $ORIGIN/metrics.dump\n",
    "\n",
    "\n",
    "showAnalyzer usart3\n",
    "\n",
    "usart3 RecordToAsciinema $ORIGIN/philosophers-asciinema\n",
    "set osPanicHook\n",
    "\"\"\"\n",
    "self.ErrorLog(\"OS Panicked\")\n",
    "\"\"\"\n",
    "cpu0 AddSymbolHook \"z_fatal_error\" $osPanicHook\n",
    "\n",
    "\n",
    "macro reset\n",
    "\"\"\"\n",
    "    sysbus LoadELF $bin\n",
    "    cpu0 VectorTableOffset `sysbus GetSymbolAddress \"_vector_table\"`\n",
    "    cpu0 EnableZephyrMode\n",
    "    cpu0 EnableProfilerCollapsedStack $ORIGIN/philosophers-profile true 62914560 maximumNestedContexts=10\n",
    "\"\"\"\n",
    "\n",
    "runMacro $reset"
   ]
  },
  {
   "cell_type": "markdown",
   "id": "d7567e99",
   "metadata": {},
   "source": [
    "## Run the sample"
   ]
  },
  {
   "cell_type": "code",
   "execution_count": null,
   "id": "3b33e68d",
   "metadata": {},
   "outputs": [],
   "source": [
    "monitor.execute_script(currentDirectory + \"/script.resc\")\n",
    "machine = emulation.get_mach(\"nucleo_h753zi\")\n",
    "terminalTester = TerminalTester(machine.sysbus.usart3, 10)\n",
    "\n",
    "terminalTester.WaitFor(String(\"Philosopher 0.*THINKING\"), treatAsRegex=True, pauseEmulation=True)\n",
    "terminalTester.WaitFor(String(\"Philosopher 0.*HOLDING\"), treatAsRegex=True, pauseEmulation=True)\n",
    "terminalTester.WaitFor(String(\"Philosopher 0.*EATING\"), treatAsRegex=True, pauseEmulation=True)\n",
    "\n",
    "emulation.Dispose()"
   ]
  },
  {
   "cell_type": "markdown",
   "id": "c5fbe1fa",
   "metadata": {},
   "source": [
    "## UART output"
   ]
  },
  {
   "cell_type": "code",
   "execution_count": null,
   "id": "88d68a92",
   "metadata": {},
   "outputs": [],
   "source": [
    "from renode_colab_tools import asciinema\n",
    "asciinema.display_asciicast('philosophers-asciinema')"
   ]
  },
  {
   "cell_type": "markdown",
   "id": "b394513d",
   "metadata": {},
   "source": [
    "## Renode metrics analysis"
   ]
  },
  {
   "cell_type": "code",
   "execution_count": null,
   "id": "42a25ead",
   "metadata": {},
   "outputs": [],
   "source": [
    "import sys\n",
    "from pathlib import Path\n",
    "from renode_run import get_default_renode_path\n",
    "sys.path.append(str(Path(get_default_renode_path()).parent))\n",
    "\n",
    "from renode_colab_tools import metrics\n",
    "from tools.metrics_analyzer.metrics_parser import MetricsParser\n",
    "metrics.init_notebook_mode(connected=False)\n",
    "parser = MetricsParser('metrics.dump')\n",
    "\n",
    "metrics.display_metrics(parser)"
   ]
  }
 ],
 "metadata": {
  "jupytext": {
   "cell_metadata_filter": "-all",
   "main_language": "python",
   "notebook_metadata_filter": "-all"
  },
  "kernelspec": {
   "display_name": "Python 3",
   "name": "python3"
  },
  "language_info": {
   "name": "python"
  }
 },
 "nbformat": 4,
 "nbformat_minor": 5
}
