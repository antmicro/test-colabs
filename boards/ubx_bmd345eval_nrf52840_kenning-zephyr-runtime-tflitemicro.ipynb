{
 "cells": [
  {
   "cell_type": "markdown",
   "id": "41cbcfda",
   "metadata": {
    "cell_marker": "\"\"\""
   },
   "source": [
    "[![Renode](https://dl.antmicro.com/projects/renode/renode.svg)](https://renode.io)\n",
    "\n",
    "[![Run in Google Colab](https://img.shields.io/badge/-Run%20in%20Google%20colab-%23007ded?logo=google-colab&logoColor=white&style=for-the-badge)](https://colab.research.google.com/github/antmicro/test-colabs/blob/main/boards/ubx_bmd345eval_nrf52840_kenning-zephyr-runtime-tflitemicro.ipynb) [![View ipynb](https://img.shields.io/badge/-View%20ipynb%20source-%23007ded?logo=jupyter&logoColor=white&style=for-the-badge)](https://github.com/antmicro/test-colabs/blob/main/boards/ubx_bmd345eval_nrf52840_kenning-zephyr-runtime-tflitemicro.ipynb) [![View Python source](https://img.shields.io/badge/-View%20Python%20source-%23007ded?logo=python&logoColor=white&style=for-the-badge)](https://github.com/antmicro/test-colabs/blob/main/boards/ubx_bmd345eval_nrf52840_kenning-zephyr-runtime-tflitemicro.py)"
   ]
  },
  {
   "cell_type": "markdown",
   "id": "66261f3b",
   "metadata": {
    "cell_marker": "\"\"\""
   },
   "source": [
    "## Install requirements"
   ]
  },
  {
   "cell_type": "code",
   "execution_count": null,
   "id": "ac1aabc3",
   "metadata": {},
   "outputs": [],
   "source": [
    "! pip install -q git+https://github.com/antmicro/renode-colab-tools.git\n",
    "! pip install -q git+https://github.com/antmicro/renode-run.git\n",
    "! pip install -q git+https://github.com/antmicro/pyrenode3.git\n",
    "! renode-run download --renode-variant dotnet-portable"
   ]
  },
  {
   "cell_type": "markdown",
   "id": "abf4bc6a",
   "metadata": {},
   "source": [
    "## Start Renode"
   ]
  },
  {
   "cell_type": "code",
   "execution_count": null,
   "id": "0791a833",
   "metadata": {},
   "outputs": [],
   "source": [
    "import os\n",
    "from renode_run import get_default_renode_path\n",
    "from renode_run.utils import RenodeVariant\n",
    "\n",
    "os.environ['PYRENODE_RUNTIME'] = 'coreclr'\n",
    "os.environ['PYRENODE_BIN'] = get_default_renode_path(variant=RenodeVariant.DOTNET_PORTABLE)\n",
    "\n",
    "from pyrenode3.wrappers import Emulation, Monitor, TerminalTester, LEDTester\n",
    "from Antmicro.Renode.Peripherals.UART import UARTBackend\n",
    "from Antmicro.Renode.Analyzers import LoggingUartAnalyzer\n",
    "from System import String\n",
    "\n",
    "currentDirectory = os.getcwd()\n",
    "emulation = Emulation()\n",
    "monitor = Monitor()\n",
    "emulation.BackendManager.SetPreferredAnalyzer(UARTBackend, LoggingUartAnalyzer)"
   ]
  },
  {
   "cell_type": "markdown",
   "id": "9ae09224",
   "metadata": {},
   "source": [
    "## Setup a script"
   ]
  },
  {
   "cell_type": "code",
   "execution_count": null,
   "id": "359992ca",
   "metadata": {},
   "outputs": [],
   "source": [
    "%%writefile script.resc\n",
    "logFile $ORIGIN/kenning-zephyr-runtime-tflitemicro-renode.log True\n",
    "\n",
    "$name?=\"ubx_bmd345eval_nrf52840\"\n",
    "$bin?=@https://zephyr-dashboard.renode.io/zephyr/6353ba88b6cd5c2969215d601947bd89f651375d/ubx_bmd345eval_nrf52840/kenning-zephyr-runtime-tflitemicro/kenning-zephyr-runtime-tflitemicro.elf\n",
    "$repl?=$ORIGIN/kenning-zephyr-runtime-tflitemicro.repl\n",
    "\n",
    "using sysbus\n",
    "mach create $name\n",
    "\n",
    "machine LoadPlatformDescription @https://zephyr-dashboard.renode.io/zephyr_sim/6353ba88b6cd5c2969215d601947bd89f651375d/1f5b1203341cd1bbdf00e8434b0d12dbfad12465/ubx_bmd345eval_nrf52840/kenning-zephyr-runtime-tflitemicro/kenning-zephyr-runtime-tflitemicro.repl\n",
    "machine EnableProfiler $ORIGIN/metrics.dump\n",
    "\n",
    "\n",
    "showAnalyzer uart0\n",
    "\n",
    "uart0 RecordToAsciinema $ORIGIN/kenning-zephyr-runtime-tflitemicro-asciinema\n",
    "set osPanicHook\n",
    "\"\"\"\n",
    "self.ErrorLog(\"OS Panicked\")\n",
    "\"\"\"\n",
    "cpu0 AddSymbolHook \"z_fatal_error\" $osPanicHook\n",
    "\n",
    "\n",
    "macro reset\n",
    "\"\"\"\n",
    "    sysbus LoadELF $bin\n",
    "    cpu0 VectorTableOffset `sysbus GetSymbolAddress \"_vector_table\"`\n",
    "    cpu0 EnableZephyrMode\n",
    "\"\"\"\n",
    "\n",
    "runMacro $reset"
   ]
  },
  {
   "cell_type": "markdown",
   "id": "f14f392e",
   "metadata": {},
   "source": [
    "## Run the sample"
   ]
  },
  {
   "cell_type": "code",
   "execution_count": null,
   "id": "35019119",
   "metadata": {},
   "outputs": [],
   "source": [
    "monitor.execute_script(currentDirectory + \"/script.resc\")\n",
    "machine = emulation.get_mach(\"ubx_bmd345eval_nrf52840\")\n",
    "terminalTester = TerminalTester(machine.sysbus.uart0, 5)\n",
    "\n",
    "terminalTester.WaitFor(String(\"\\*\\*\\* Booting Zephyr OS build.+6353ba88b6cd \\*\\*\\*\"), treatAsRegex=True, pauseEmulation=True)\n",
    "\n",
    "terminalTester.WaitFor(String(\"I: model output: [wing: 1.000000, ring: 0.000000, slope: 0.000000, negative: 0.000000]\"), pauseEmulation=True)\n",
    "terminalTester.WaitFor(String(\"I: model output: [wing: 0.000000, ring: 0.000000, slope: 0.000000, negative: 1.000000]\"), pauseEmulation=True)\n",
    "terminalTester.WaitFor(String(\"I: model output: [wing: 0.000000, ring: 0.000000, slope: 1.000000, negative: 0.000000]\"), pauseEmulation=True)\n",
    "terminalTester.WaitFor(String(\"I: model output: [wing: 1.000000, ring: 0.000000, slope: 0.000000, negative: 0.000000]\"), pauseEmulation=True)\n",
    "terminalTester.WaitFor(String(\"I: model output: [wing: 0.000000, ring: 0.997465, slope: 0.000000, negative: 0.002535]\"), pauseEmulation=True)\n",
    "terminalTester.WaitFor(String(\"I: model output: [wing: 0.000000, ring: 0.000000, slope: 1.000000, negative: 0.000000]\"), pauseEmulation=True)\n",
    "terminalTester.WaitFor(String(\"I: model output: [wing: 1.000000, ring: 0.000000, slope: 0.000000, negative: 0.000000]\"), pauseEmulation=True)\n",
    "terminalTester.WaitFor(String(\"I: model output: [wing: 1.000000, ring: 0.000000, slope: 0.000000, negative: 0.000000]\"), pauseEmulation=True)\n",
    "terminalTester.WaitFor(String(\"I: model output: [wing: 1.000000, ring: 0.000000, slope: 0.000000, negative: 0.000000]\"), pauseEmulation=True)\n",
    "terminalTester.WaitFor(String(\"I: model output: [wing: 0.000000, ring: 0.000000, slope: 1.000000, negative: 0.000000]\"), pauseEmulation=True)\n",
    "terminalTester.WaitFor(String(\"I: inference done\"), pauseEmulation=True)\n",
    "\n",
    "emulation.Dispose()"
   ]
  },
  {
   "cell_type": "markdown",
   "id": "ed92f99f",
   "metadata": {},
   "source": [
    "## UART output"
   ]
  },
  {
   "cell_type": "code",
   "execution_count": null,
   "id": "1abcd74d",
   "metadata": {},
   "outputs": [],
   "source": [
    "from renode_colab_tools import asciinema\n",
    "asciinema.display_asciicast('kenning-zephyr-runtime-tflitemicro-asciinema')"
   ]
  },
  {
   "cell_type": "markdown",
   "id": "46155a83",
   "metadata": {},
   "source": [
    "## Renode metrics analysis"
   ]
  },
  {
   "cell_type": "code",
   "execution_count": null,
   "id": "09e0eaff",
   "metadata": {},
   "outputs": [],
   "source": [
    "import sys\n",
    "from pathlib import Path\n",
    "from renode_run import get_default_renode_path\n",
    "sys.path.append(str(Path(get_default_renode_path()).parent))\n",
    "\n",
    "from renode_colab_tools import metrics\n",
    "from tools.metrics_analyzer.metrics_parser import MetricsParser\n",
    "metrics.init_notebook_mode(connected=False)\n",
    "parser = MetricsParser('metrics.dump')\n",
    "\n",
    "metrics.display_metrics(parser)"
   ]
  }
 ],
 "metadata": {
  "jupytext": {
   "cell_metadata_filter": "-all",
   "main_language": "python",
   "notebook_metadata_filter": "-all"
  },
  "kernelspec": {
   "display_name": "Python 3",
   "name": "python3"
  },
  "language_info": {
   "name": "python"
  }
 },
 "nbformat": 4,
 "nbformat_minor": 5
}
