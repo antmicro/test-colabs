{
 "cells": [
  {
   "cell_type": "markdown",
   "id": "5d65c6ce",
   "metadata": {
    "cell_marker": "\"\"\""
   },
   "source": [
    "![Renode](https://dl.antmicro.com/projects/renode/renode.svg)\n",
    "<table align=\"left\">\n",
    "  <td>\n",
    "    <a target=\"_blank\" href=\"https://colab.research.google.com/github/antmicro/test-colabs/blob/main/boards/gr716a_mini_hello_world.ipynb\"><img src=\"https://raw.githubusercontent.com/antmicro/test-colabs/main/.static/view-in-colab.png\" />Run in Google Colab</a>\n",
    "  </td>\n",
    "  <td>\n",
    "    <a target=\"_blank\" href=\"https://github.com/antmicro/test-colabs/blob/main/boards/gr716a_mini_hello_world.ipynb\"><img src=\"https://raw.githubusercontent.com/antmicro/test-colabs/main/.static/view-ipynb.png\" />View ipynb on GitHub</a>\n",
    "  </td>\n",
    "  <td>\n",
    "    <a target=\"_blank\" href=\"https://github.com/antmicro/test-colabs/blob/main/boards/gr716a_mini_hello_world.py\"><img src=\"https://raw.githubusercontent.com/antmicro/test-colabs/main/.static/view-source.png\" />View Python source on GitHub</a>\n",
    "  </td>\n",
    "</table>"
   ]
  },
  {
   "cell_type": "markdown",
   "id": "b24df0c2",
   "metadata": {
    "cell_marker": "\"\"\""
   },
   "source": [
    "## Install requirements"
   ]
  },
  {
   "cell_type": "code",
   "execution_count": null,
   "id": "e05d46b1",
   "metadata": {},
   "outputs": [],
   "source": [
    "! pip install -q git+https://github.com/antmicro/renode-colab-tools.git@tabbed-metrics\n",
    "! pip install -q git+https://github.com/antmicro/renode-run.git@new-features\n",
    "! pip install -q git+https://github.com/antmicro/pyrenode.git@renode-run-experiments\n",
    "! pip install -q robotframework==4.0.1\n",
    "! renode-run download"
   ]
  },
  {
   "cell_type": "markdown",
   "id": "f2923cac",
   "metadata": {},
   "source": [
    "## Start Renode"
   ]
  },
  {
   "cell_type": "code",
   "execution_count": null,
   "id": "22a99cf5",
   "metadata": {},
   "outputs": [],
   "source": [
    "from pyrenode import connect_renode, get_keywords\n",
    "connect_renode()\n",
    "get_keywords()"
   ]
  },
  {
   "cell_type": "markdown",
   "id": "5cd6521e",
   "metadata": {},
   "source": [
    "## Setup a script"
   ]
  },
  {
   "cell_type": "code",
   "execution_count": null,
   "id": "4007cbb4",
   "metadata": {},
   "outputs": [],
   "source": [
    "%%writefile script.resc\n",
    "\n",
    "using sysbus\n",
    "$name?=\"gr716a_mini\"\n",
    "mach create $name\n",
    "\n",
    "machine LoadPlatformDescription @https://zephyr-dashboard.renode.io/gr716a_mini-hello_world.repl\n",
    "machine EnableProfiler $ORIGIN/metrics.dump\n",
    "\n",
    "showAnalyzer sysbus.uart0\n",
    "\n",
    "macro reset\n",
    "\"\"\"\n",
    "    sysbus LoadELF @https://zephyr-dashboard.renode.io/gr716a_mini-zephyr-hello_world.elf\n",
    "    \n",
    "\"\"\"\n",
    "\n",
    "runMacro $reset"
   ]
  },
  {
   "cell_type": "markdown",
   "id": "952301e9",
   "metadata": {},
   "source": [
    "## Run the sample"
   ]
  },
  {
   "cell_type": "code",
   "execution_count": null,
   "id": "11338d0f",
   "metadata": {
    "lines_to_next_cell": 0
   },
   "outputs": [],
   "source": [
    "ExecuteCommand(\"include @script.resc\")\n",
    "CreateTerminalTester(\"sysbus.uart0\", timeout=5)\n",
    "StartEmulation()\n",
    "\n",
    "WaitForLineOnUart(\"Hello World! gr716a_mini\")\n",
    "print(ExecuteCommand(\"sysbus.uart0 DumpHistoryBuffer\"))\n",
    "\n",
    "ResetEmulation()"
   ]
  },
  {
   "cell_type": "markdown",
   "id": "4615ba71",
   "metadata": {},
   "source": [
    "## Renode metrics analysis"
   ]
  },
  {
   "cell_type": "code",
   "execution_count": null,
   "id": "894664bb",
   "metadata": {},
   "outputs": [],
   "source": [
    "import sys\n",
    "from pathlib import Path\n",
    "sys.path.append(Path('/root/.config/renode/renode-run.path').read_text())\n",
    "\n",
    "from renode_colab_tools import metrics\n",
    "from tools.metrics_analyzer.metrics_parser import MetricsParser\n",
    "metrics.init_notebook_mode(connected=False)\n",
    "parser = MetricsParser('metrics.dump')"
   ]
  },
  {
   "cell_type": "code",
   "execution_count": null,
   "id": "6f22631a",
   "metadata": {},
   "outputs": [],
   "source": [
    "metrics.display_metrics(parser)"
   ]
  }
 ],
 "metadata": {
  "jupytext": {
   "cell_metadata_filter": "-all",
   "main_language": "python",
   "notebook_metadata_filter": "-all"
  }
 },
 "nbformat": 4,
 "nbformat_minor": 5
}
