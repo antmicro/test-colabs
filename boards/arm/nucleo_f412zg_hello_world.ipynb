{
 "cells": [
  {
   "cell_type": "markdown",
   "id": "fbf4f30e",
   "metadata": {
    "cell_marker": "\"\"\""
   },
   "source": [
    "![Renode](https://dl.antmicro.com/projects/renode/renode.svg)\n",
    "<table align=\"left\">\n",
    "  <td>\n",
    "    <a target=\"_blank\" href=\"https://colab.research.google.com/github/antmicro/test-colabs/blob/main/boards/arm/nucleo_f412zg_hello_world.ipynb\"><img src=\"https://raw.githubusercontent.com/antmicro/test-colabs/main/.static/view-in-colab.png\" />Run in Google Colab</a>\n",
    "  </td>\n",
    "  <td>\n",
    "    <a target=\"_blank\" href=\"https://github.com/antmicro/test-colabs/blob/main/boards/arm/nucleo_f412zg_hello_world.ipynb\"><img src=\"https://raw.githubusercontent.com/antmicro/test-colabs/main/.static/view-ipynb.png\" />View ipynb on GitHub</a>\n",
    "  </td>\n",
    "  <td>\n",
    "    <a target=\"_blank\" href=\"https://github.com/antmicro/test-colabs/blob/main/boards/arm/nucleo_f412zg_hello_world.py\"><img src=\"https://raw.githubusercontent.com/antmicro/test-colabs/main/.static/view-source.png\" />View Python source on GitHub</a>\n",
    "  </td>\n",
    "</table>"
   ]
  },
  {
   "cell_type": "markdown",
   "id": "0e6208d1",
   "metadata": {
    "cell_marker": "\"\"\""
   },
   "source": [
    "## Install requirements"
   ]
  },
  {
   "cell_type": "code",
   "execution_count": null,
   "id": "a5afac7d",
   "metadata": {},
   "outputs": [],
   "source": [
    "! pip install -q git+https://github.com/antmicro/renode-colab-tools.git\n",
    "! pip install -q git+https://github.com/antmicro/renode-run.git@new-features\n",
    "! pip install -q git+https://github.com/antmicro/pyrenode.git@renode-run-experiments\n",
    "! pip install -q robotframework==4.0.1\n",
    "! renode-run download"
   ]
  },
  {
   "cell_type": "markdown",
   "id": "a3131085",
   "metadata": {},
   "source": [
    "## Start Renode"
   ]
  },
  {
   "cell_type": "code",
   "execution_count": null,
   "id": "e6e00c00",
   "metadata": {},
   "outputs": [],
   "source": [
    "from pyrenode import connect_renode, get_keywords\n",
    "connect_renode()\n",
    "get_keywords()"
   ]
  },
  {
   "cell_type": "markdown",
   "id": "9c0553a3",
   "metadata": {},
   "source": [
    "## Setup a script"
   ]
  },
  {
   "cell_type": "code",
   "execution_count": null,
   "id": "40b8f804",
   "metadata": {},
   "outputs": [],
   "source": [
    "%%writefile script.resc\n",
    "\n",
    "using sysbus\n",
    "$name?=\"nucleo_f412zg\"\n",
    "mach create $name\n",
    "\n",
    "machine LoadPlatformDescription @https://zephyr-dashboard.renode.io/nucleo_f412zg-hello_world.repl\n",
    "machine EnableProfiler $ORIGIN/metrics.dump\n",
    "\n",
    "showAnalyzer sysbus.usart3\n",
    "\n",
    "macro reset\n",
    "\"\"\"\n",
    "    sysbus LoadELF @https://zephyr-dashboard.renode.io/nucleo_f412zg-zephyr-hello_world.elf\n",
    "    cpu0 VectorTableOffset `sysbus GetSymbolAddress \"_vector_table\"`\n",
    "\"\"\"\n",
    "\n",
    "runMacro $reset"
   ]
  },
  {
   "cell_type": "markdown",
   "id": "513e55ea",
   "metadata": {},
   "source": [
    "## Run the sample"
   ]
  },
  {
   "cell_type": "code",
   "execution_count": null,
   "id": "fb04f4cc",
   "metadata": {
    "lines_to_next_cell": 0
   },
   "outputs": [],
   "source": [
    "ExecuteCommand(\"include @script.resc\")\n",
    "CreateTerminalTester(\"sysbus.usart3\", timeout=5)\n",
    "StartEmulation()\n",
    "\n",
    "WaitForLineOnUart(\"Hello World! nucleo_f412zg\")\n",
    "print(ExecuteCommand(\"sysbus.usart3 DumpHistoryBuffer\"))\n",
    "\n",
    "ResetEmulation()"
   ]
  },
  {
   "cell_type": "markdown",
   "id": "227bb762",
   "metadata": {},
   "source": [
    "## Renode metrics analysis"
   ]
  },
  {
   "cell_type": "code",
   "execution_count": null,
   "id": "96a93557",
   "metadata": {},
   "outputs": [],
   "source": [
    "import sys\n",
    "from pathlib import Path\n",
    "sys.path.append(Path('/root/.config/renode/renode-run.path').read_text())\n",
    "\n",
    "from renode_colab_tools import metrics\n",
    "from tools.metrics_analyzer.metrics_parser import MetricsParser\n",
    "metrics.init_notebook_mode(connected=False)\n",
    "parser = MetricsParser('metrics.dump')"
   ]
  },
  {
   "cell_type": "code",
   "execution_count": null,
   "id": "5da65489",
   "metadata": {},
   "outputs": [],
   "source": [
    "metrics.configure_plotly_browser_state()\n",
    "metrics.show_executed_instructions(parser)"
   ]
  },
  {
   "cell_type": "code",
   "execution_count": null,
   "id": "ee95fd27",
   "metadata": {},
   "outputs": [],
   "source": [
    "metrics.configure_plotly_browser_state()\n",
    "metrics.show_memory_access(parser)"
   ]
  },
  {
   "cell_type": "code",
   "execution_count": null,
   "id": "124b8d37",
   "metadata": {},
   "outputs": [],
   "source": [
    "metrics.configure_plotly_browser_state()\n",
    "metrics.show_exceptions(parser)"
   ]
  },
  {
   "cell_type": "code",
   "execution_count": null,
   "id": "f136daa5",
   "metadata": {},
   "outputs": [],
   "source": [
    "metrics.configure_plotly_browser_state()\n",
    "metrics.show_peripheral_access(parser)"
   ]
  }
 ],
 "metadata": {
  "jupytext": {
   "cell_metadata_filter": "-all",
   "main_language": "python",
   "notebook_metadata_filter": "-all"
  }
 },
 "nbformat": 4,
 "nbformat_minor": 5
}
