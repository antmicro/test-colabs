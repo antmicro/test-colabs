{
 "cells": [
  {
   "cell_type": "markdown",
   "id": "63b9a1e0",
   "metadata": {
    "cell_marker": "\"\"\""
   },
   "source": [
    "[![Renode](https://dl.antmicro.com/projects/renode/renode.svg)](https://renode.io)\n",
    "\n",
    "[![Run in Google Colab](https://img.shields.io/badge/-Run%20in%20Google%20colab-%23007ded?logo=google-colab&logoColor=white&style=for-the-badge)](https://colab.research.google.com/github/antmicro/test-colabs/blob/main/boards/arty_a7_arm_designstart_m3_synchronization.ipynb) [![View ipynb](https://img.shields.io/badge/-View%20ipynb%20source-%23007ded?logo=jupyter&logoColor=white&style=for-the-badge)](https://github.com/antmicro/test-colabs/blob/main/boards/arty_a7_arm_designstart_m3_synchronization.ipynb) [![View Python source](https://img.shields.io/badge/-View%20Python%20source-%23007ded?logo=python&logoColor=white&style=for-the-badge)](https://github.com/antmicro/test-colabs/blob/main/boards/arty_a7_arm_designstart_m3_synchronization.py)"
   ]
  },
  {
   "cell_type": "markdown",
   "id": "18eaeb95",
   "metadata": {
    "cell_marker": "\"\"\""
   },
   "source": [
    "## Install requirements"
   ]
  },
  {
   "cell_type": "code",
   "execution_count": null,
   "id": "42f601f0",
   "metadata": {},
   "outputs": [],
   "source": [
    "! pip install -q git+https://github.com/antmicro/renode-colab-tools.git\n",
    "! pip install -q git+https://github.com/antmicro/renode-run.git\n",
    "! pip install -q git+https://github.com/antmicro/pyrenode.git\n",
    "! renode-run download"
   ]
  },
  {
   "cell_type": "markdown",
   "id": "c092cbe1",
   "metadata": {},
   "source": [
    "## Start Renode"
   ]
  },
  {
   "cell_type": "code",
   "execution_count": null,
   "id": "3190a9e9",
   "metadata": {},
   "outputs": [],
   "source": [
    "from pyrenode import connect_renode, get_keywords\n",
    "connect_renode()\n",
    "get_keywords()"
   ]
  },
  {
   "cell_type": "markdown",
   "id": "95d0f48a",
   "metadata": {},
   "source": [
    "## Setup a script"
   ]
  },
  {
   "cell_type": "code",
   "execution_count": null,
   "id": "38bf0eb8",
   "metadata": {},
   "outputs": [],
   "source": [
    "%%writefile script.resc\n",
    "\n",
    "using sysbus\n",
    "$name?=\"arty_a7_arm_designstart_m3\"\n",
    "mach create $name\n",
    "\n",
    "machine LoadPlatformDescription @https://zephyr-dashboard.renode.io/arty_a7_arm_designstart_m3-synchronization/arty_a7_arm_designstart_m3-synchronization.repl\n",
    "machine EnableProfiler $ORIGIN/metrics.dump\n",
    "\n",
    "showAnalyzer sysbus.uartlite0\n",
    "sysbus.uartlite0 RecordToAsciinema $ORIGIN/output.asciinema\n",
    "\n",
    "macro reset\n",
    "\"\"\"\n",
    "    sysbus LoadELF @https://zephyr-dashboard.renode.io/arty_a7_arm_designstart_m3-synchronization/arty_a7_arm_designstart_m3-zephyr-synchronization.elf\n",
    "    cpu0 VectorTableOffset `sysbus GetSymbolAddress \"_vector_table\"`\n",
    "\"\"\"\n",
    "\n",
    "runMacro $reset"
   ]
  },
  {
   "cell_type": "markdown",
   "id": "98e8dfb4",
   "metadata": {},
   "source": [
    "## Run the sample"
   ]
  },
  {
   "cell_type": "code",
   "execution_count": null,
   "id": "19be95a2",
   "metadata": {},
   "outputs": [],
   "source": [
    "ExecuteScript(\"script.resc\")\n",
    "CreateTerminalTester(\"sysbus.uartlite0\", timeout=5)\n",
    "StartEmulation()\n",
    "\n",
    "WaitForLineOnUart(r\"thread_a: Hello World from cpu \\d on arty_a7_arm_designstart_m3\", treatAsRegex=True)\n",
    "WaitForLineOnUart(r\"thread_b: Hello World from cpu \\d on arty_a7_arm_designstart_m3\", treatAsRegex=True)\n",
    "WaitForLineOnUart(r\"thread_a: Hello World from cpu \\d on arty_a7_arm_designstart_m3\", treatAsRegex=True)\n",
    "WaitForLineOnUart(r\"thread_b: Hello World from cpu \\d on arty_a7_arm_designstart_m3\", treatAsRegex=True)\n",
    "\n",
    "ResetEmulation()"
   ]
  },
  {
   "cell_type": "markdown",
   "id": "264c2de1",
   "metadata": {},
   "source": [
    "## UART output"
   ]
  },
  {
   "cell_type": "code",
   "execution_count": null,
   "id": "f7d9825c",
   "metadata": {},
   "outputs": [],
   "source": [
    "from renode_colab_tools import asciinema\n",
    "asciinema.display_asciicast('output.asciinema')"
   ]
  },
  {
   "cell_type": "markdown",
   "id": "f63f92b7",
   "metadata": {},
   "source": [
    "## Renode metrics analysis"
   ]
  },
  {
   "cell_type": "code",
   "execution_count": null,
   "id": "d8899c69",
   "metadata": {},
   "outputs": [],
   "source": [
    "import sys\n",
    "from pathlib import Path\n",
    "sys.path.append(Path('/root/.config/renode/renode-run.path').read_text())\n",
    "\n",
    "from renode_colab_tools import metrics\n",
    "from tools.metrics_analyzer.metrics_parser import MetricsParser\n",
    "metrics.init_notebook_mode(connected=False)\n",
    "parser = MetricsParser('metrics.dump')\n",
    "\n",
    "metrics.display_metrics(parser)"
   ]
  }
 ],
 "metadata": {
  "jupytext": {
   "cell_metadata_filter": "-all",
   "main_language": "python",
   "notebook_metadata_filter": "-all"
  },
  "kernelspec": {
   "display_name": "Python 3",
   "name": "python3"
  },
  "language_info": {
   "name": "python"
  }
 },
 "nbformat": 4,
 "nbformat_minor": 5
}
