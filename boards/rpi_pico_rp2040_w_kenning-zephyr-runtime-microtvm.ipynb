{
 "cells": [
  {
   "cell_type": "markdown",
   "id": "63432957",
   "metadata": {
    "cell_marker": "\"\"\""
   },
   "source": [
    "[![Renode](https://dl.antmicro.com/projects/renode/renode.svg)](https://renode.io)\n",
    "\n",
    "[![Run in Google Colab](https://img.shields.io/badge/-Run%20in%20Google%20colab-%23007ded?logo=google-colab&logoColor=white&style=for-the-badge)](https://colab.research.google.com/github/antmicro/test-colabs/blob/main/boards/rpi_pico_rp2040_w_kenning-zephyr-runtime-microtvm.ipynb) [![View ipynb](https://img.shields.io/badge/-View%20ipynb%20source-%23007ded?logo=jupyter&logoColor=white&style=for-the-badge)](https://github.com/antmicro/test-colabs/blob/main/boards/rpi_pico_rp2040_w_kenning-zephyr-runtime-microtvm.ipynb) [![View Python source](https://img.shields.io/badge/-View%20Python%20source-%23007ded?logo=python&logoColor=white&style=for-the-badge)](https://github.com/antmicro/test-colabs/blob/main/boards/rpi_pico_rp2040_w_kenning-zephyr-runtime-microtvm.py)"
   ]
  },
  {
   "cell_type": "markdown",
   "id": "e53194e8",
   "metadata": {
    "cell_marker": "\"\"\""
   },
   "source": [
    "## Install requirements"
   ]
  },
  {
   "cell_type": "code",
   "execution_count": null,
   "id": "c412aadf",
   "metadata": {},
   "outputs": [],
   "source": [
    "! pip install -q git+https://github.com/antmicro/renode-colab-tools.git\n",
    "! pip install -q git+https://github.com/antmicro/renode-run.git\n",
    "! pip install -q git+https://github.com/antmicro/pyrenode.git\n",
    "! renode-run download"
   ]
  },
  {
   "cell_type": "markdown",
   "id": "02a26292",
   "metadata": {},
   "source": [
    "## Start Renode"
   ]
  },
  {
   "cell_type": "code",
   "execution_count": null,
   "id": "fb8fee02",
   "metadata": {},
   "outputs": [],
   "source": [
    "from pyrenode import connect_renode, get_keywords\n",
    "connect_renode()\n",
    "get_keywords()"
   ]
  },
  {
   "cell_type": "markdown",
   "id": "9cc9d2a6",
   "metadata": {},
   "source": [
    "## Setup a script"
   ]
  },
  {
   "cell_type": "code",
   "execution_count": null,
   "id": "06d16040",
   "metadata": {},
   "outputs": [],
   "source": [
    "%%writefile script.resc\n",
    "\n",
    "using sysbus\n",
    "$name?=\"rpi_pico_rp2040_w\"\n",
    "mach create $name\n",
    "\n",
    "machine LoadPlatformDescription @https://zephyr-dashboard.renode.io/zephyr_sim/a70bf0e488c5327ad67512c2854987d113318c79/39825dfac1127ddb969d5fea99613f72ad37c639/rpi_pico_rp2040_w/kenning-zephyr-runtime-microtvm/kenning-zephyr-runtime-microtvm.repl\n",
    "machine EnableProfiler $ORIGIN/metrics.dump\n",
    "\n",
    "showAnalyzer sysbus.uart0\n",
    "sysbus.uart0 RecordToAsciinema $ORIGIN/output.asciinema\n",
    "\n",
    "macro reset\n",
    "\"\"\"\n",
    "    sysbus LoadELF @https://zephyr-dashboard.renode.io/zephyr/a70bf0e488c5327ad67512c2854987d113318c79/rpi_pico_rp2040_w/kenning-zephyr-runtime-microtvm/kenning-zephyr-runtime-microtvm.elf\n",
    "    cpu1 IsHalted true\n",
    "    cpu0 VectorTableOffset `sysbus GetSymbolAddress \"_vector_table\"`\n",
    "\"\"\"\n",
    "\n",
    "runMacro $reset"
   ]
  },
  {
   "cell_type": "markdown",
   "id": "fe747471",
   "metadata": {},
   "source": [
    "## Run the sample"
   ]
  },
  {
   "cell_type": "code",
   "execution_count": null,
   "id": "12e880e0",
   "metadata": {},
   "outputs": [],
   "source": [
    "ExecuteScript(\"script.resc\")\n",
    "CreateTerminalTester(\"sysbus.uart0\", timeout=5)\n",
    "\n",
    "WaitForLineOnUart(\"\\*\\*\\* Booting Zephyr OS build.+a70bf0e488c5 \\*\\*\\*\", treatAsRegex=True)\n",
    "\n",
    "WaitForLineOnUart(\"I: model output: [wing: 1.000000, ring: 0.000000, slope: 0.000000, negative: 0.000000]\")\n",
    "WaitForLineOnUart(\"I: model output: [wing: 0.000000, ring: 0.000000, slope: 0.000000, negative: 1.000000]\")\n",
    "WaitForLineOnUart(\"I: model output: [wing: 0.000000, ring: 0.000000, slope: 1.000000, negative: 0.000000]\")\n",
    "WaitForLineOnUart(\"I: model output: [wing: 1.000000, ring: 0.000000, slope: 0.000000, negative: 0.000000]\")\n",
    "WaitForLineOnUart(\"I: model output: [wing: 0.000000, ring: 0.997465, slope: 0.000000, negative: 0.002535]\")\n",
    "WaitForLineOnUart(\"I: model output: [wing: 0.000000, ring: 0.000000, slope: 1.000000, negative: 0.000000]\")\n",
    "WaitForLineOnUart(\"I: model output: [wing: 1.000000, ring: 0.000000, slope: 0.000000, negative: 0.000000]\")\n",
    "WaitForLineOnUart(\"I: model output: [wing: 1.000000, ring: 0.000000, slope: 0.000000, negative: 0.000000]\")\n",
    "WaitForLineOnUart(\"I: model output: [wing: 1.000000, ring: 0.000000, slope: 0.000000, negative: 0.000000]\")\n",
    "WaitForLineOnUart(\"I: model output: [wing: 0.000000, ring: 0.000000, slope: 1.000000, negative: 0.000000]\")\n",
    "WaitForLineOnUart(\"I: inference done\")\n",
    "\n",
    "ResetEmulation()"
   ]
  },
  {
   "cell_type": "markdown",
   "id": "0321d941",
   "metadata": {},
   "source": [
    "## UART output"
   ]
  },
  {
   "cell_type": "code",
   "execution_count": null,
   "id": "72bcca6a",
   "metadata": {},
   "outputs": [],
   "source": [
    "from renode_colab_tools import asciinema\n",
    "asciinema.display_asciicast('output.asciinema')"
   ]
  },
  {
   "cell_type": "markdown",
   "id": "a0fd1c4c",
   "metadata": {},
   "source": [
    "## Renode metrics analysis"
   ]
  },
  {
   "cell_type": "code",
   "execution_count": null,
   "id": "dd03fd24",
   "metadata": {},
   "outputs": [],
   "source": [
    "import sys\n",
    "from pathlib import Path\n",
    "from renode_run import get_default_renode_path\n",
    "sys.path.append(str(Path(get_default_renode_path()).parent))\n",
    "\n",
    "from renode_colab_tools import metrics\n",
    "from tools.metrics_analyzer.metrics_parser import MetricsParser\n",
    "metrics.init_notebook_mode(connected=False)\n",
    "parser = MetricsParser('metrics.dump')\n",
    "\n",
    "metrics.display_metrics(parser)"
   ]
  }
 ],
 "metadata": {
  "jupytext": {
   "cell_metadata_filter": "-all",
   "main_language": "python",
   "notebook_metadata_filter": "-all"
  },
  "kernelspec": {
   "display_name": "Python 3",
   "name": "python3"
  },
  "language_info": {
   "name": "python"
  }
 },
 "nbformat": 4,
 "nbformat_minor": 5
}
