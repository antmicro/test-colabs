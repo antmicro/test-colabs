{
 "cells": [
  {
   "cell_type": "markdown",
   "id": "bdf356d1",
   "metadata": {
    "cell_marker": "\"\"\""
   },
   "source": [
    "[![Renode](https://dl.antmicro.com/projects/renode/renode.svg)](https://renode.io)\n",
    "\n",
    "[![Run in Google Colab](https://img.shields.io/badge/-Run%20in%20Google%20colab-%23007ded?logo=google-colab&logoColor=white&style=for-the-badge)](https://colab.research.google.com/github/antmicro/test-colabs/blob/main/boards/cy8ckit_062_ble_0_0_0_cy8c6347_m4_kenning-zephyr-runtime-tflitemicro.ipynb) [![View ipynb](https://img.shields.io/badge/-View%20ipynb%20source-%23007ded?logo=jupyter&logoColor=white&style=for-the-badge)](https://github.com/antmicro/test-colabs/blob/main/boards/cy8ckit_062_ble_0_0_0_cy8c6347_m4_kenning-zephyr-runtime-tflitemicro.ipynb) [![View Python source](https://img.shields.io/badge/-View%20Python%20source-%23007ded?logo=python&logoColor=white&style=for-the-badge)](https://github.com/antmicro/test-colabs/blob/main/boards/cy8ckit_062_ble_0_0_0_cy8c6347_m4_kenning-zephyr-runtime-tflitemicro.py)"
   ]
  },
  {
   "cell_type": "markdown",
   "id": "f71a4fba",
   "metadata": {
    "cell_marker": "\"\"\""
   },
   "source": [
    "## Install requirements"
   ]
  },
  {
   "cell_type": "code",
   "execution_count": null,
   "id": "5f10fde7",
   "metadata": {},
   "outputs": [],
   "source": [
    "! pip install -q git+https://github.com/antmicro/renode-colab-tools.git\n",
    "! pip install -q git+https://github.com/antmicro/renode-run.git\n",
    "! pip install -q git+https://github.com/antmicro/pyrenode.git\n",
    "! renode-run download"
   ]
  },
  {
   "cell_type": "markdown",
   "id": "175e98d4",
   "metadata": {},
   "source": [
    "## Start Renode"
   ]
  },
  {
   "cell_type": "code",
   "execution_count": null,
   "id": "603bb062",
   "metadata": {},
   "outputs": [],
   "source": [
    "from pyrenode import connect_renode, get_keywords\n",
    "connect_renode()\n",
    "get_keywords()"
   ]
  },
  {
   "cell_type": "markdown",
   "id": "c50dfc68",
   "metadata": {},
   "source": [
    "## Setup a script"
   ]
  },
  {
   "cell_type": "code",
   "execution_count": null,
   "id": "af0f8851",
   "metadata": {},
   "outputs": [],
   "source": [
    "%%writefile script.resc\n",
    "\n",
    "using sysbus\n",
    "$name?=\"cy8ckit_062_ble_0_0_0_cy8c6347_m4\"\n",
    "mach create $name\n",
    "\n",
    "machine LoadPlatformDescription @https://zephyr-dashboard.renode.io/zephyr_sim/63623915af48461951476133f1dbc95c344a5ce0/dbdcd8ae83780281ea7519edc0cc11fe3953ab4f/cy8ckit_062_ble_0_0_0_cy8c6347_m4/kenning-zephyr-runtime-tflitemicro/kenning-zephyr-runtime-tflitemicro.repl\n",
    "machine EnableProfiler $ORIGIN/metrics.dump\n",
    "\n",
    "showAnalyzer sysbus.uart6\n",
    "sysbus.uart6 RecordToAsciinema $ORIGIN/output.asciinema\n",
    "\n",
    "macro reset\n",
    "\"\"\"\n",
    "    sysbus LoadELF @https://zephyr-dashboard.renode.io/zephyr/63623915af48461951476133f1dbc95c344a5ce0/cy8ckit_062_ble_0_0_0_cy8c6347_m4/kenning-zephyr-runtime-tflitemicro/kenning-zephyr-runtime-tflitemicro.elf\n",
    "    cpu0 VectorTableOffset `sysbus GetSymbolAddress \"_vector_table\"`\n",
    "\"\"\"\n",
    "\n",
    "runMacro $reset"
   ]
  },
  {
   "cell_type": "markdown",
   "id": "a11ed24c",
   "metadata": {},
   "source": [
    "## Run the sample"
   ]
  },
  {
   "cell_type": "code",
   "execution_count": null,
   "id": "78a107fa",
   "metadata": {},
   "outputs": [],
   "source": [
    "ExecuteScript(\"script.resc\")\n",
    "CreateTerminalTester(\"sysbus.uart6\", timeout=5)\n",
    "\n",
    "WaitForLineOnUart(\"\\*\\*\\* Booting Zephyr OS build.+63623915af48 \\*\\*\\*\", treatAsRegex=True)\n",
    "\n",
    "WaitForLineOnUart(\"I: model output: [wing: 1.000000, ring: 0.000000, slope: 0.000000, negative: 0.000000]\")\n",
    "WaitForLineOnUart(\"I: model output: [wing: 0.000000, ring: 0.000000, slope: 0.000000, negative: 1.000000]\")\n",
    "WaitForLineOnUart(\"I: model output: [wing: 0.000000, ring: 0.000000, slope: 1.000000, negative: 0.000000]\")\n",
    "WaitForLineOnUart(\"I: model output: [wing: 1.000000, ring: 0.000000, slope: 0.000000, negative: 0.000000]\")\n",
    "WaitForLineOnUart(\"I: model output: [wing: 0.000000, ring: 0.997465, slope: 0.000000, negative: 0.002535]\")\n",
    "WaitForLineOnUart(\"I: model output: [wing: 0.000000, ring: 0.000000, slope: 1.000000, negative: 0.000000]\")\n",
    "WaitForLineOnUart(\"I: model output: [wing: 1.000000, ring: 0.000000, slope: 0.000000, negative: 0.000000]\")\n",
    "WaitForLineOnUart(\"I: model output: [wing: 1.000000, ring: 0.000000, slope: 0.000000, negative: 0.000000]\")\n",
    "WaitForLineOnUart(\"I: model output: [wing: 1.000000, ring: 0.000000, slope: 0.000000, negative: 0.000000]\")\n",
    "WaitForLineOnUart(\"I: model output: [wing: 0.000000, ring: 0.000000, slope: 1.000000, negative: 0.000000]\")\n",
    "WaitForLineOnUart(\"I: inference done\")\n",
    "\n",
    "ResetEmulation()"
   ]
  },
  {
   "cell_type": "markdown",
   "id": "c9e9a865",
   "metadata": {},
   "source": [
    "## UART output"
   ]
  },
  {
   "cell_type": "code",
   "execution_count": null,
   "id": "7d3cc7f7",
   "metadata": {},
   "outputs": [],
   "source": [
    "from renode_colab_tools import asciinema\n",
    "asciinema.display_asciicast('output.asciinema')"
   ]
  },
  {
   "cell_type": "markdown",
   "id": "d704bd26",
   "metadata": {},
   "source": [
    "## Renode metrics analysis"
   ]
  },
  {
   "cell_type": "code",
   "execution_count": null,
   "id": "3381f424",
   "metadata": {},
   "outputs": [],
   "source": [
    "import sys\n",
    "from pathlib import Path\n",
    "from renode_run import get_default_renode_path\n",
    "sys.path.append(str(Path(get_default_renode_path()).parent))\n",
    "\n",
    "from renode_colab_tools import metrics\n",
    "from tools.metrics_analyzer.metrics_parser import MetricsParser\n",
    "metrics.init_notebook_mode(connected=False)\n",
    "parser = MetricsParser('metrics.dump')\n",
    "\n",
    "metrics.display_metrics(parser)"
   ]
  }
 ],
 "metadata": {
  "jupytext": {
   "cell_metadata_filter": "-all",
   "main_language": "python",
   "notebook_metadata_filter": "-all"
  },
  "kernelspec": {
   "display_name": "Python 3",
   "name": "python3"
  },
  "language_info": {
   "name": "python"
  }
 },
 "nbformat": 4,
 "nbformat_minor": 5
}
