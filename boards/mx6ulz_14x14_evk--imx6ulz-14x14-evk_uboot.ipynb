{
 "cells": [
  {
   "cell_type": "markdown",
   "id": "9ea28eb7",
   "metadata": {
    "cell_marker": "\"\"\""
   },
   "source": [
    "[![Renode](https://dl.antmicro.com/projects/renode/renode.svg)](https://renode.io)\n",
    "\n",
    "[![Run in Google Colab](https://img.shields.io/badge/-Run%20in%20Google%20colab-%23007ded?logo=google-colab&logoColor=white&style=for-the-badge)](https://colab.research.google.com/github/antmicro/test-colabs/blob/main/boards/mx6ulz_14x14_evk--imx6ulz-14x14-evk_uboot.ipynb) [![View ipynb](https://img.shields.io/badge/-View%20ipynb%20source-%23007ded?logo=jupyter&logoColor=white&style=for-the-badge)](https://github.com/antmicro/test-colabs/blob/main/boards/mx6ulz_14x14_evk--imx6ulz-14x14-evk_uboot.ipynb) [![View Python source](https://img.shields.io/badge/-View%20Python%20source-%23007ded?logo=python&logoColor=white&style=for-the-badge)](https://github.com/antmicro/test-colabs/blob/main/boards/mx6ulz_14x14_evk--imx6ulz-14x14-evk_uboot.py)"
   ]
  },
  {
   "cell_type": "markdown",
   "id": "b8237363",
   "metadata": {
    "cell_marker": "\"\"\""
   },
   "source": [
    "## Install requirements"
   ]
  },
  {
   "cell_type": "code",
   "execution_count": null,
   "id": "a8c8fff0",
   "metadata": {},
   "outputs": [],
   "source": [
    "! pip install -q git+https://github.com/antmicro/renode-colab-tools.git\n",
    "! pip install -q git+https://github.com/antmicro/renode-run.git\n",
    "! pip install -q git+https://github.com/antmicro/pyrenode3.git\n",
    "! renode-run download --renode-variant dotnet-portable"
   ]
  },
  {
   "cell_type": "markdown",
   "id": "fba03cc9",
   "metadata": {},
   "source": [
    "## Start Renode"
   ]
  },
  {
   "cell_type": "code",
   "execution_count": null,
   "id": "92648e30",
   "metadata": {},
   "outputs": [],
   "source": [
    "import os\n",
    "from renode_run import get_default_renode_path\n",
    "from renode_run.utils import RenodeVariant\n",
    "\n",
    "os.environ['PYRENODE_RUNTIME'] = 'coreclr'\n",
    "os.environ['PYRENODE_BIN'] = get_default_renode_path(variant=RenodeVariant.DOTNET_PORTABLE)\n",
    "\n",
    "from pyrenode3.wrappers import Emulation, Monitor, TerminalTester, LEDTester\n",
    "from Antmicro.Renode.Peripherals.UART import UARTBackend\n",
    "from Antmicro.Renode.Analyzers import LoggingUartAnalyzer\n",
    "from System import String\n",
    "\n",
    "currentDirectory = os.getcwd()\n",
    "emulation = Emulation()\n",
    "monitor = Monitor()\n",
    "emulation.BackendManager.SetPreferredAnalyzer(UARTBackend, LoggingUartAnalyzer)"
   ]
  },
  {
   "cell_type": "markdown",
   "id": "ebe96e63",
   "metadata": {},
   "source": [
    "## Setup a script"
   ]
  },
  {
   "cell_type": "code",
   "execution_count": null,
   "id": "0bb82ec5",
   "metadata": {},
   "outputs": [],
   "source": [
    "%%writefile script.resc\n",
    "logFile $ORIGIN/uboot-renode.log True\n",
    "\n",
    "using sysbus\n",
    "$name?=\"mx6ulz_14x14_evk--imx6ulz-14x14-evk\"\n",
    "mach create $name\n",
    "\n",
    "machine LoadPlatformDescription @https://u-boot-dashboard.renode.io/uboot_sim/2ca1398a5ece8d33d8feb6b410e6e38588b5d2bc/327f86675b49497a02301a95de5220ccc7bab67d/mx6ulz_14x14_evk--imx6ulz-14x14-evk/uboot/uboot.repl\n",
    "machine EnableProfiler $ORIGIN/metrics.dump\n",
    "\n",
    "\n",
    "showAnalyzer uart1\n",
    "\n",
    "uart1 RecordToAsciinema $ORIGIN/uboot-asciinema\n",
    "set osPanicHook\n",
    "\"\"\"\n",
    "self.ErrorLog(\"OS Panicked\")\n",
    "\"\"\"\n",
    "cpu0 AddSymbolHook \"hang\" $osPanicHook\n",
    "cpu0 AddSymbolHook \"panic\" $osPanicHook\n",
    "\n",
    "\n",
    "macro reset\n",
    "\"\"\"\n",
    "    sysbus LoadELF @https://zephyr-dashboard.renode.io/uboot/2ca1398a5ece8d33d8feb6b410e6e38588b5d2bc/mx6ulz_14x14_evk--imx6ulz-14x14-evk/uboot/uboot.elf\n",
    "    cpu0 EnableUbootMode\n",
    "    cpu0 EnableZephyrMode\n",
    "    sysbus LoadSymbolsFrom @https://zephyr-dashboard.renode.io/uboot/2ca1398a5ece8d33d8feb6b410e6e38588b5d2bc/mx6ulz_14x14_evk--imx6ulz-14x14-evk/uboot/uboot.elf textAddress=0x8ffab000\n",
    "\"\"\"\n",
    "\n",
    "runMacro $reset"
   ]
  },
  {
   "cell_type": "markdown",
   "id": "da1b1a6e",
   "metadata": {},
   "source": [
    "## Run the sample"
   ]
  },
  {
   "cell_type": "code",
   "execution_count": null,
   "id": "be1f0c50",
   "metadata": {},
   "outputs": [],
   "source": [
    "monitor.execute_script(currentDirectory + \"/script.resc\")\n",
    "machine = emulation.get_mach(\"mx6ulz_14x14_evk--imx6ulz-14x14-evk\")\n",
    "terminalTester = TerminalTester(machine.sysbus.uart1, 5)\n",
    "\n",
    "terminalTester.WaitFor(String(\"Hit any key to stop autoboot\"), includeUnfinishedLine=True, pauseEmulation=True)\n",
    "terminalTester.Write(\"\\n\")\n",
    "terminalTester.WaitFor(String(\">\"), includeUnfinishedLine=True, pauseEmulation=True)\n",
    "terminalTester.WriteLine(\"version\")\n",
    "terminalTester.WaitFor(String(\"U-Boot\"), pauseEmulation=True)\n",
    "terminalTester.WaitFor(String(\">\"), includeUnfinishedLine=True, pauseEmulation=True)\n",
    "\n",
    "emulation.Dispose()"
   ]
  },
  {
   "cell_type": "markdown",
   "id": "f515ddfe",
   "metadata": {},
   "source": [
    "## UART output"
   ]
  },
  {
   "cell_type": "code",
   "execution_count": null,
   "id": "243de8e2",
   "metadata": {},
   "outputs": [],
   "source": [
    "from renode_colab_tools import asciinema\n",
    "asciinema.display_asciicast('uboot-asciinema')"
   ]
  },
  {
   "cell_type": "markdown",
   "id": "fe98467a",
   "metadata": {},
   "source": [
    "## Renode metrics analysis"
   ]
  },
  {
   "cell_type": "code",
   "execution_count": null,
   "id": "67b83887",
   "metadata": {},
   "outputs": [],
   "source": [
    "import sys\n",
    "from pathlib import Path\n",
    "from renode_run import get_default_renode_path\n",
    "sys.path.append(str(Path(get_default_renode_path()).parent))\n",
    "\n",
    "from renode_colab_tools import metrics\n",
    "from tools.metrics_analyzer.metrics_parser import MetricsParser\n",
    "metrics.init_notebook_mode(connected=False)\n",
    "parser = MetricsParser('metrics.dump')\n",
    "\n",
    "metrics.display_metrics(parser)"
   ]
  }
 ],
 "metadata": {
  "jupytext": {
   "cell_metadata_filter": "-all",
   "main_language": "python",
   "notebook_metadata_filter": "-all"
  },
  "kernelspec": {
   "display_name": "Python 3",
   "name": "python3"
  },
  "language_info": {
   "name": "python"
  }
 },
 "nbformat": 4,
 "nbformat_minor": 5
}
