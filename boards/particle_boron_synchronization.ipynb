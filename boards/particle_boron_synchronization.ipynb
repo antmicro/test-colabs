{
 "cells": [
  {
   "cell_type": "markdown",
   "id": "d8d18f91",
   "metadata": {
    "cell_marker": "\"\"\""
   },
   "source": [
    "[![Renode](https://dl.antmicro.com/projects/renode/renode.svg)](https://renode.io)\n",
    "\n",
    "[![Run in Google Colab](https://img.shields.io/badge/-Run%20in%20Google%20colab-%23007ded?logo=google-colab&logoColor=white&style=for-the-badge)](https://colab.research.google.com/github/antmicro/test-colabs/blob/main/boards/particle_boron_synchronization.ipynb) [![View ipynb](https://img.shields.io/badge/-View%20ipynb%20source-%23007ded?logo=jupyter&logoColor=white&style=for-the-badge)](https://github.com/antmicro/test-colabs/blob/main/boards/particle_boron_synchronization.ipynb) [![View Python source](https://img.shields.io/badge/-View%20Python%20source-%23007ded?logo=python&logoColor=white&style=for-the-badge)](https://github.com/antmicro/test-colabs/blob/main/boards/particle_boron_synchronization.py)"
   ]
  },
  {
   "cell_type": "markdown",
   "id": "24dc49eb",
   "metadata": {
    "cell_marker": "\"\"\""
   },
   "source": [
    "## Install requirements"
   ]
  },
  {
   "cell_type": "code",
   "execution_count": null,
   "id": "c2fb1ea2",
   "metadata": {},
   "outputs": [],
   "source": [
    "! pip install -q git+https://github.com/antmicro/renode-colab-tools.git\n",
    "! pip install -q git+https://github.com/antmicro/renode-run.git\n",
    "! pip install -q git+https://github.com/antmicro/pyrenode3.git\n",
    "! renode-run download --renode-variant dotnet-portable"
   ]
  },
  {
   "cell_type": "markdown",
   "id": "d3e2fde2",
   "metadata": {},
   "source": [
    "## Start Renode"
   ]
  },
  {
   "cell_type": "code",
   "execution_count": null,
   "id": "ba65d943",
   "metadata": {},
   "outputs": [],
   "source": [
    "import os\n",
    "from renode_run import get_default_renode_path\n",
    "from renode_run.utils import RenodeVariant\n",
    "\n",
    "os.environ['PYRENODE_RUNTIME'] = 'coreclr'\n",
    "os.environ['PYRENODE_BIN'] = get_default_renode_path(variant=RenodeVariant.DOTNET_PORTABLE)\n",
    "\n",
    "from pyrenode3.wrappers import Emulation, Monitor, TerminalTester, LEDTester\n",
    "from Antmicro.Renode.Peripherals.UART import UARTBackend\n",
    "from Antmicro.Renode.Analyzers import LoggingUartAnalyzer\n",
    "from System import String\n",
    "\n",
    "currentDirectory = os.getcwd()\n",
    "emulation = Emulation()\n",
    "monitor = Monitor()\n",
    "emulation.BackendManager.SetPreferredAnalyzer(UARTBackend, LoggingUartAnalyzer)"
   ]
  },
  {
   "cell_type": "markdown",
   "id": "d9c05d3b",
   "metadata": {},
   "source": [
    "## Setup a script"
   ]
  },
  {
   "cell_type": "code",
   "execution_count": null,
   "id": "d07b5215",
   "metadata": {},
   "outputs": [],
   "source": [
    "%%writefile script.resc\n",
    "logFile $ORIGIN/synchronization-renode.log True\n",
    "\n",
    "using sysbus\n",
    "$name?=\"particle_boron\"\n",
    "mach create $name\n",
    "\n",
    "machine LoadPlatformDescription @https://zephyr-dashboard.renode.io/zephyr_sim/76e1fc7713a4a3f2b50c497afddec0364a34c10b/234e81a06ec4b68b8091b7a9e595f25a611c1ce5/particle_boron/synchronization/synchronization.repl\n",
    "machine EnableProfiler $ORIGIN/metrics.dump\n",
    "\n",
    "\n",
    "showAnalyzer uart0\n",
    "\n",
    "uart0 RecordToAsciinema $ORIGIN/synchronization-asciinema\n",
    "set osPanicHook\n",
    "\"\"\"\n",
    "self.ErrorLog(\"OS Panicked\")\n",
    "\"\"\"\n",
    "cpu0 AddSymbolHook \"z_fatal_error\" $osPanicHook\n",
    "\n",
    "\n",
    "macro reset\n",
    "\"\"\"\n",
    "    sysbus LoadELF @https://zephyr-dashboard.renode.io/zephyr/76e1fc7713a4a3f2b50c497afddec0364a34c10b/particle_boron/synchronization/synchronization.elf\n",
    "    cpu0 VectorTableOffset `sysbus GetSymbolAddress \"_vector_table\"`\n",
    "    cpu0 EnableZephyrMode\n",
    "\"\"\"\n",
    "\n",
    "runMacro $reset"
   ]
  },
  {
   "cell_type": "markdown",
   "id": "32b915a9",
   "metadata": {},
   "source": [
    "## Run the sample"
   ]
  },
  {
   "cell_type": "code",
   "execution_count": null,
   "id": "9bc6bc2f",
   "metadata": {},
   "outputs": [],
   "source": [
    "monitor.execute_script(currentDirectory + \"/script.resc\")\n",
    "machine = emulation.get_mach(\"particle_boron\")\n",
    "terminalTester = TerminalTester(machine.sysbus.uart0, 5)\n",
    "\n",
    "terminalTester.WaitFor(String(r\"thread_a: Hello World from cpu \\d on particle_boron\"), treatAsRegex=True, pauseEmulation=True)\n",
    "terminalTester.WaitFor(String(r\"thread_b: Hello World from cpu \\d on particle_boron\"), treatAsRegex=True, pauseEmulation=True)\n",
    "terminalTester.WaitFor(String(r\"thread_a: Hello World from cpu \\d on particle_boron\"), treatAsRegex=True, pauseEmulation=True)\n",
    "terminalTester.WaitFor(String(r\"thread_b: Hello World from cpu \\d on particle_boron\"), treatAsRegex=True, pauseEmulation=True)\n",
    "\n",
    "emulation.Dispose()"
   ]
  },
  {
   "cell_type": "markdown",
   "id": "b573fd36",
   "metadata": {},
   "source": [
    "## UART output"
   ]
  },
  {
   "cell_type": "code",
   "execution_count": null,
   "id": "19587210",
   "metadata": {},
   "outputs": [],
   "source": [
    "from renode_colab_tools import asciinema\n",
    "asciinema.display_asciicast('synchronization-asciinema')"
   ]
  },
  {
   "cell_type": "markdown",
   "id": "88755221",
   "metadata": {},
   "source": [
    "## Renode metrics analysis"
   ]
  },
  {
   "cell_type": "code",
   "execution_count": null,
   "id": "7083abf0",
   "metadata": {},
   "outputs": [],
   "source": [
    "import sys\n",
    "from pathlib import Path\n",
    "from renode_run import get_default_renode_path\n",
    "sys.path.append(str(Path(get_default_renode_path()).parent))\n",
    "\n",
    "from renode_colab_tools import metrics\n",
    "from tools.metrics_analyzer.metrics_parser import MetricsParser\n",
    "metrics.init_notebook_mode(connected=False)\n",
    "parser = MetricsParser('metrics.dump')\n",
    "\n",
    "metrics.display_metrics(parser)"
   ]
  }
 ],
 "metadata": {
  "jupytext": {
   "cell_metadata_filter": "-all",
   "main_language": "python",
   "notebook_metadata_filter": "-all"
  },
  "kernelspec": {
   "display_name": "Python 3",
   "name": "python3"
  },
  "language_info": {
   "name": "python"
  }
 },
 "nbformat": 4,
 "nbformat_minor": 5
}
