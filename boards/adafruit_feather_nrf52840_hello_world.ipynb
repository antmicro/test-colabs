{
 "cells": [
  {
   "cell_type": "markdown",
   "id": "e705f1f9",
   "metadata": {
    "cell_marker": "\"\"\""
   },
   "source": [
    "![Renode](https://dl.antmicro.com/projects/renode/renode.svg)\n",
    "<table align=\"left\">\n",
    "  <td>\n",
    "    <a target=\"_blank\" href=\"https://colab.research.google.com/github/antmicro/test-colabs/blob/main/boards/adafruit_feather_nrf52840_hello_world.ipynb\"><img src=\"https://raw.githubusercontent.com/antmicro/test-colabs/main/.static/view-in-colab.png\" />Run in Google Colab</a>\n",
    "  </td>\n",
    "  <td>\n",
    "    <a target=\"_blank\" href=\"https://github.com/antmicro/test-colabs/blob/main/boards/adafruit_feather_nrf52840_hello_world.ipynb\"><img src=\"https://raw.githubusercontent.com/antmicro/test-colabs/main/.static/view-ipynb.png\" />View ipynb on GitHub</a>\n",
    "  </td>\n",
    "  <td>\n",
    "    <a target=\"_blank\" href=\"https://github.com/antmicro/test-colabs/blob/main/boards/adafruit_feather_nrf52840_hello_world.py\"><img src=\"https://raw.githubusercontent.com/antmicro/test-colabs/main/.static/view-source.png\" />View Python source on GitHub</a>\n",
    "  </td>\n",
    "</table>"
   ]
  },
  {
   "cell_type": "markdown",
   "id": "5c730408",
   "metadata": {
    "cell_marker": "\"\"\""
   },
   "source": [
    "## Install requirements"
   ]
  },
  {
   "cell_type": "code",
   "execution_count": null,
   "id": "2fc9deba",
   "metadata": {},
   "outputs": [],
   "source": [
    "! pip install -q git+https://github.com/antmicro/renode-colab-tools.git@tabbed-metrics\n",
    "! pip install -q git+https://github.com/antmicro/renode-run.git@new-features\n",
    "! pip install -q git+https://github.com/antmicro/pyrenode.git@renode-run-experiments\n",
    "! pip install -q robotframework==4.0.1\n",
    "! renode-run download"
   ]
  },
  {
   "cell_type": "markdown",
   "id": "5f838a76",
   "metadata": {},
   "source": [
    "## Start Renode"
   ]
  },
  {
   "cell_type": "code",
   "execution_count": null,
   "id": "a3a8670a",
   "metadata": {},
   "outputs": [],
   "source": [
    "from pyrenode import connect_renode, get_keywords\n",
    "connect_renode()\n",
    "get_keywords()"
   ]
  },
  {
   "cell_type": "markdown",
   "id": "dff8ab8a",
   "metadata": {},
   "source": [
    "## Setup a script"
   ]
  },
  {
   "cell_type": "code",
   "execution_count": null,
   "id": "3a6577f3",
   "metadata": {},
   "outputs": [],
   "source": [
    "%%writefile script.resc\n",
    "\n",
    "using sysbus\n",
    "$name?=\"adafruit_feather_nrf52840\"\n",
    "mach create $name\n",
    "\n",
    "machine LoadPlatformDescription @https://zephyr-dashboard.renode.io/adafruit_feather_nrf52840-hello_world.repl\n",
    "machine EnableProfiler $ORIGIN/metrics.dump\n",
    "\n",
    "showAnalyzer sysbus.uart0\n",
    "\n",
    "macro reset\n",
    "\"\"\"\n",
    "    sysbus LoadELF @https://zephyr-dashboard.renode.io/adafruit_feather_nrf52840-zephyr-hello_world.elf\n",
    "    cpu0 VectorTableOffset `sysbus GetSymbolAddress \"_vector_table\"`\n",
    "\"\"\"\n",
    "\n",
    "runMacro $reset"
   ]
  },
  {
   "cell_type": "markdown",
   "id": "5be2321a",
   "metadata": {},
   "source": [
    "## Run the sample"
   ]
  },
  {
   "cell_type": "code",
   "execution_count": null,
   "id": "23aa4bd0",
   "metadata": {},
   "outputs": [],
   "source": [
    "ExecuteCommand(\"include @script.resc\")\n",
    "CreateTerminalTester(\"sysbus.uart0\", timeout=5)\n",
    "StartEmulation()\n",
    "\n",
    "WaitForLineOnUart(\"Hello World! adafruit_feather_nrf52840\")\n",
    "print(ExecuteCommand(\"sysbus.uart0 DumpHistoryBuffer\"))\n",
    "\n",
    "ResetEmulation()"
   ]
  },
  {
   "cell_type": "markdown",
   "id": "b575ff4d",
   "metadata": {},
   "source": [
    "## Renode metrics analysis"
   ]
  },
  {
   "cell_type": "code",
   "execution_count": null,
   "id": "7104c6ac",
   "metadata": {},
   "outputs": [],
   "source": [
    "import sys\n",
    "from pathlib import Path\n",
    "sys.path.append(Path('/root/.config/renode/renode-run.path').read_text())\n",
    "\n",
    "from renode_colab_tools import metrics\n",
    "from tools.metrics_analyzer.metrics_parser import MetricsParser\n",
    "metrics.init_notebook_mode(connected=False)\n",
    "parser = MetricsParser('metrics.dump')"
   ]
  },
  {
   "cell_type": "code",
   "execution_count": null,
   "id": "3b1ad65f",
   "metadata": {},
   "outputs": [],
   "source": [
    "metrics.display_metrics(parser)"
   ]
  }
 ],
 "metadata": {
  "jupytext": {
   "cell_metadata_filter": "-all",
   "main_language": "python",
   "notebook_metadata_filter": "-all"
  }
 },
 "nbformat": 4,
 "nbformat_minor": 5
}
