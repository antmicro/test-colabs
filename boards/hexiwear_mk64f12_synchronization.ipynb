{
 "cells": [
  {
   "cell_type": "markdown",
   "id": "88449fc7",
   "metadata": {
    "cell_marker": "\"\"\""
   },
   "source": [
    "[![Renode](https://dl.antmicro.com/projects/renode/renode.svg)](https://renode.io)\n",
    "\n",
    "[![Run in Google Colab](https://img.shields.io/badge/-Run%20in%20Google%20colab-%23007ded?logo=google-colab&logoColor=white&style=for-the-badge)](https://colab.research.google.com/github/antmicro/test-colabs/blob/main/boards/hexiwear_mk64f12_synchronization.ipynb) [![View ipynb](https://img.shields.io/badge/-View%20ipynb%20source-%23007ded?logo=jupyter&logoColor=white&style=for-the-badge)](https://github.com/antmicro/test-colabs/blob/main/boards/hexiwear_mk64f12_synchronization.ipynb) [![View Python source](https://img.shields.io/badge/-View%20Python%20source-%23007ded?logo=python&logoColor=white&style=for-the-badge)](https://github.com/antmicro/test-colabs/blob/main/boards/hexiwear_mk64f12_synchronization.py)"
   ]
  },
  {
   "cell_type": "markdown",
   "id": "0828cf69",
   "metadata": {
    "cell_marker": "\"\"\""
   },
   "source": [
    "## Install requirements"
   ]
  },
  {
   "cell_type": "code",
   "execution_count": null,
   "id": "a10b34d5",
   "metadata": {},
   "outputs": [],
   "source": [
    "! pip install -q git+https://github.com/antmicro/renode-colab-tools.git\n",
    "! pip install -q git+https://github.com/antmicro/renode-run.git\n",
    "! pip install -q git+https://github.com/antmicro/pyrenode3.git\n",
    "! renode-run download --renode-variant dotnet-portable"
   ]
  },
  {
   "cell_type": "markdown",
   "id": "14993604",
   "metadata": {},
   "source": [
    "## Start Renode"
   ]
  },
  {
   "cell_type": "code",
   "execution_count": null,
   "id": "1edf8cdd",
   "metadata": {},
   "outputs": [],
   "source": [
    "import os\n",
    "from renode_run import get_default_renode_path\n",
    "from renode_run.utils import RenodeVariant\n",
    "\n",
    "os.environ['PYRENODE_RUNTIME'] = 'coreclr'\n",
    "os.environ['PYRENODE_BIN'] = get_default_renode_path(variant=RenodeVariant.DOTNET_PORTABLE)\n",
    "\n",
    "from pyrenode3.wrappers import Emulation, Monitor, TerminalTester, LEDTester\n",
    "from Antmicro.Renode.Peripherals.UART import UARTBackend\n",
    "from Antmicro.Renode.Analyzers import LoggingUartAnalyzer\n",
    "from System import String\n",
    "\n",
    "currentDirectory = os.getcwd()\n",
    "emulation = Emulation()\n",
    "monitor = Monitor()\n",
    "emulation.BackendManager.SetPreferredAnalyzer(UARTBackend, LoggingUartAnalyzer)"
   ]
  },
  {
   "cell_type": "markdown",
   "id": "0ea0a7f4",
   "metadata": {},
   "source": [
    "## Setup a script"
   ]
  },
  {
   "cell_type": "code",
   "execution_count": null,
   "id": "d20b2e05",
   "metadata": {},
   "outputs": [],
   "source": [
    "%%writefile script.resc\n",
    "logFile $ORIGIN/synchronization-renode.log True\n",
    "\n",
    "using sysbus\n",
    "$name?=\"hexiwear_mk64f12\"\n",
    "mach create $name\n",
    "\n",
    "machine LoadPlatformDescription @https://zephyr-dashboard.renode.io/zephyr_sim/76e1fc7713a4a3f2b50c497afddec0364a34c10b/234e81a06ec4b68b8091b7a9e595f25a611c1ce5/hexiwear_mk64f12/synchronization/synchronization.repl\n",
    "machine EnableProfiler $ORIGIN/metrics.dump\n",
    "\n",
    "\n",
    "showAnalyzer uart0\n",
    "\n",
    "uart0 RecordToAsciinema $ORIGIN/synchronization-asciinema\n",
    "set osPanicHook\n",
    "\"\"\"\n",
    "self.ErrorLog(\"OS Panicked\")\n",
    "\"\"\"\n",
    "cpu0 AddSymbolHook \"z_fatal_error\" $osPanicHook\n",
    "\n",
    "\n",
    "macro reset\n",
    "\"\"\"\n",
    "    sysbus LoadELF @https://zephyr-dashboard.renode.io/zephyr/76e1fc7713a4a3f2b50c497afddec0364a34c10b/hexiwear_mk64f12/synchronization/synchronization.elf\n",
    "    cpu0 VectorTableOffset `sysbus GetSymbolAddress \"_vector_table\"`\n",
    "    cpu0 EnableZephyrMode\n",
    "\"\"\"\n",
    "\n",
    "runMacro $reset"
   ]
  },
  {
   "cell_type": "markdown",
   "id": "b22aabc4",
   "metadata": {},
   "source": [
    "## Run the sample"
   ]
  },
  {
   "cell_type": "code",
   "execution_count": null,
   "id": "721744bb",
   "metadata": {},
   "outputs": [],
   "source": [
    "monitor.execute_script(currentDirectory + \"/script.resc\")\n",
    "machine = emulation.get_mach(\"hexiwear_mk64f12\")\n",
    "terminalTester = TerminalTester(machine.sysbus.uart0, 5)\n",
    "\n",
    "terminalTester.WaitFor(String(r\"thread_a: Hello World from cpu \\d on hexiwear_mk64f12\"), treatAsRegex=True, pauseEmulation=True)\n",
    "terminalTester.WaitFor(String(r\"thread_b: Hello World from cpu \\d on hexiwear_mk64f12\"), treatAsRegex=True, pauseEmulation=True)\n",
    "terminalTester.WaitFor(String(r\"thread_a: Hello World from cpu \\d on hexiwear_mk64f12\"), treatAsRegex=True, pauseEmulation=True)\n",
    "terminalTester.WaitFor(String(r\"thread_b: Hello World from cpu \\d on hexiwear_mk64f12\"), treatAsRegex=True, pauseEmulation=True)\n",
    "\n",
    "emulation.Dispose()"
   ]
  },
  {
   "cell_type": "markdown",
   "id": "bb2dd7e3",
   "metadata": {},
   "source": [
    "## UART output"
   ]
  },
  {
   "cell_type": "code",
   "execution_count": null,
   "id": "83daff8b",
   "metadata": {},
   "outputs": [],
   "source": [
    "from renode_colab_tools import asciinema\n",
    "asciinema.display_asciicast('synchronization-asciinema')"
   ]
  },
  {
   "cell_type": "markdown",
   "id": "eb28d974",
   "metadata": {},
   "source": [
    "## Renode metrics analysis"
   ]
  },
  {
   "cell_type": "code",
   "execution_count": null,
   "id": "c9bff4f8",
   "metadata": {},
   "outputs": [],
   "source": [
    "import sys\n",
    "from pathlib import Path\n",
    "from renode_run import get_default_renode_path\n",
    "sys.path.append(str(Path(get_default_renode_path()).parent))\n",
    "\n",
    "from renode_colab_tools import metrics\n",
    "from tools.metrics_analyzer.metrics_parser import MetricsParser\n",
    "metrics.init_notebook_mode(connected=False)\n",
    "parser = MetricsParser('metrics.dump')\n",
    "\n",
    "metrics.display_metrics(parser)"
   ]
  }
 ],
 "metadata": {
  "jupytext": {
   "cell_metadata_filter": "-all",
   "main_language": "python",
   "notebook_metadata_filter": "-all"
  },
  "kernelspec": {
   "display_name": "Python 3",
   "name": "python3"
  },
  "language_info": {
   "name": "python"
  }
 },
 "nbformat": 4,
 "nbformat_minor": 5
}
