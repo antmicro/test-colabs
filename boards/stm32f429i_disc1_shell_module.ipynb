{
 "cells": [
  {
   "cell_type": "markdown",
   "id": "82b50805",
   "metadata": {
    "cell_marker": "\"\"\""
   },
   "source": [
    "[![Renode](https://dl.antmicro.com/projects/renode/renode.svg)](https://renode.io)\n",
    "\n",
    "[![Run in Google Colab](https://img.shields.io/badge/-Run%20in%20Google%20colab-%23007ded?logo=google-colab&logoColor=white&style=for-the-badge)](https://colab.research.google.com/github/antmicro/test-colabs/blob/main/boards/stm32f429i_disc1_shell_module.ipynb) [![View ipynb](https://img.shields.io/badge/-View%20ipynb%20source-%23007ded?logo=jupyter&logoColor=white&style=for-the-badge)](https://github.com/antmicro/test-colabs/blob/main/boards/stm32f429i_disc1_shell_module.ipynb) [![View Python source](https://img.shields.io/badge/-View%20Python%20source-%23007ded?logo=python&logoColor=white&style=for-the-badge)](https://github.com/antmicro/test-colabs/blob/main/boards/stm32f429i_disc1_shell_module.py)"
   ]
  },
  {
   "cell_type": "markdown",
   "id": "ad169768",
   "metadata": {
    "cell_marker": "\"\"\""
   },
   "source": [
    "## Install requirements"
   ]
  },
  {
   "cell_type": "code",
   "execution_count": null,
   "id": "512df3d9",
   "metadata": {},
   "outputs": [],
   "source": [
    "! pip install -q git+https://github.com/antmicro/renode-colab-tools.git\n",
    "! pip install -q git+https://github.com/antmicro/renode-run.git\n",
    "! pip install -q git+https://github.com/antmicro/pyrenode3.git\n",
    "! renode-run download --renode-variant dotnet-portable"
   ]
  },
  {
   "cell_type": "markdown",
   "id": "a83b00ff",
   "metadata": {},
   "source": [
    "## Start Renode"
   ]
  },
  {
   "cell_type": "code",
   "execution_count": null,
   "id": "8160412a",
   "metadata": {},
   "outputs": [],
   "source": [
    "import os\n",
    "from renode_run import get_default_renode_path\n",
    "from renode_run.utils import RenodeVariant\n",
    "\n",
    "os.environ['PYRENODE_RUNTIME'] = 'coreclr'\n",
    "os.environ['PYRENODE_BIN'] = get_default_renode_path(variant=RenodeVariant.DOTNET_PORTABLE)\n",
    "\n",
    "from pyrenode3.wrappers import Emulation, Monitor, TerminalTester, LEDTester\n",
    "from Antmicro.Renode.Peripherals.UART import UARTBackend\n",
    "from Antmicro.Renode.Analyzers import LoggingUartAnalyzer\n",
    "from System import String\n",
    "\n",
    "currentDirectory = os.getcwd()\n",
    "emulation = Emulation()\n",
    "monitor = Monitor()\n",
    "emulation.BackendManager.SetPreferredAnalyzer(UARTBackend, LoggingUartAnalyzer)"
   ]
  },
  {
   "cell_type": "markdown",
   "id": "c876adb3",
   "metadata": {},
   "source": [
    "## Setup a script"
   ]
  },
  {
   "cell_type": "code",
   "execution_count": null,
   "id": "77da51a3",
   "metadata": {},
   "outputs": [],
   "source": [
    "%%writefile script.resc\n",
    "logFile $ORIGIN/shell_module-renode.log True\n",
    "\n",
    "$name?=\"stm32f429i_disc1\"\n",
    "$bin?=@https://zephyr-dashboard.renode.io/zephyr/ad3df1d0f240f29e07b1620992e2b1aa91e5cf15/stm32f429i_disc1/shell_module/shell_module.elf\n",
    "$repl?=$ORIGIN/shell_module.repl\n",
    "\n",
    "using sysbus\n",
    "mach create $name\n",
    "\n",
    "machine LoadPlatformDescription @https://zephyr-dashboard.renode.io/zephyr_sim/ad3df1d0f240f29e07b1620992e2b1aa91e5cf15/fe1dfb0df6239f9ed91fb6d119215c5018586d46/stm32f429i_disc1/shell_module/shell_module.repl\n",
    "machine EnableProfiler $ORIGIN/metrics.dump\n",
    "\n",
    "\n",
    "showAnalyzer usart1\n",
    "\n",
    "usart1 RecordToAsciinema $ORIGIN/shell_module-asciinema\n",
    "set osPanicHook\n",
    "\"\"\"\n",
    "self.ErrorLog(\"OS Panicked\")\n",
    "\"\"\"\n",
    "cpu0 AddSymbolHook \"z_fatal_error\" $osPanicHook\n",
    "\n",
    "\n",
    "macro reset\n",
    "\"\"\"\n",
    "    sysbus LoadELF $bin\n",
    "    cpu0 VectorTableOffset `sysbus GetSymbolAddress \"_vector_table\"`\n",
    "    cpu0 EnableZephyrMode\n",
    "    cpu0 EnableProfilerCollapsedStack $ORIGIN/shell_module-profile true 62914560 maximumNestedContexts=10\n",
    "\"\"\"\n",
    "\n",
    "runMacro $reset"
   ]
  },
  {
   "cell_type": "markdown",
   "id": "8ed221c5",
   "metadata": {},
   "source": [
    "## Run the sample"
   ]
  },
  {
   "cell_type": "code",
   "execution_count": null,
   "id": "1e1f56dd",
   "metadata": {},
   "outputs": [],
   "source": [
    "monitor.execute_script(currentDirectory + \"/script.resc\")\n",
    "machine = emulation.get_mach(\"stm32f429i_disc1\")\n",
    "terminalTester = TerminalTester(machine.sysbus.usart1, 10)\n",
    "\n",
    "terminalTester.WaitFor(String(\"uart:~$\"), pauseEmulation=True)\n",
    "terminalTester.WriteLine(\"\")\n",
    "terminalTester.WaitFor(String(\"uart:~$\"), pauseEmulation=True)\n",
    "terminalTester.WriteLine(\"demo board\")\n",
    "terminalTester.WaitFor(String(\"stm32f429i_disc1\"), pauseEmulation=True)\n",
    "\n",
    "emulation.Dispose()"
   ]
  },
  {
   "cell_type": "markdown",
   "id": "0bc2b6d4",
   "metadata": {},
   "source": [
    "## UART output"
   ]
  },
  {
   "cell_type": "code",
   "execution_count": null,
   "id": "a48cf49d",
   "metadata": {},
   "outputs": [],
   "source": [
    "from renode_colab_tools import asciinema\n",
    "asciinema.display_asciicast('shell_module-asciinema')"
   ]
  },
  {
   "cell_type": "markdown",
   "id": "0c7b1d78",
   "metadata": {},
   "source": [
    "## Renode metrics analysis"
   ]
  },
  {
   "cell_type": "code",
   "execution_count": null,
   "id": "fba8246c",
   "metadata": {},
   "outputs": [],
   "source": [
    "import sys\n",
    "from pathlib import Path\n",
    "from renode_run import get_default_renode_path\n",
    "sys.path.append(str(Path(get_default_renode_path()).parent))\n",
    "\n",
    "from renode_colab_tools import metrics\n",
    "from tools.metrics_analyzer.metrics_parser import MetricsParser\n",
    "metrics.init_notebook_mode(connected=False)\n",
    "parser = MetricsParser('metrics.dump')\n",
    "\n",
    "metrics.display_metrics(parser)"
   ]
  }
 ],
 "metadata": {
  "jupytext": {
   "cell_metadata_filter": "-all"
  },
  "kernelspec": {
   "display_name": "Python 3",
   "name": "python3"
  }
 },
 "nbformat": 4,
 "nbformat_minor": 5
}
