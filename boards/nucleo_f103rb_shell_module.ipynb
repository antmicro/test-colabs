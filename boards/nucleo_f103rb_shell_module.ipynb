{
 "cells": [
  {
   "cell_type": "markdown",
   "id": "ceb4d71d",
   "metadata": {
    "cell_marker": "\"\"\""
   },
   "source": [
    "[![Renode](https://dl.antmicro.com/projects/renode/renode.svg)](https://renode.io)\n",
    "\n",
    "[![Run in Google Colab](https://img.shields.io/badge/-Run%20in%20Google%20colab-%23007ded?logo=google-colab&logoColor=white&style=for-the-badge)](https://colab.research.google.com/github/antmicro/test-colabs/blob/main/boards/nucleo_f103rb_shell_module.ipynb) [![View ipynb](https://img.shields.io/badge/-View%20ipynb%20source-%23007ded?logo=jupyter&logoColor=white&style=for-the-badge)](https://github.com/antmicro/test-colabs/blob/main/boards/nucleo_f103rb_shell_module.ipynb) [![View Python source](https://img.shields.io/badge/-View%20Python%20source-%23007ded?logo=python&logoColor=white&style=for-the-badge)](https://github.com/antmicro/test-colabs/blob/main/boards/nucleo_f103rb_shell_module.py)"
   ]
  },
  {
   "cell_type": "markdown",
   "id": "1c6856df",
   "metadata": {
    "cell_marker": "\"\"\""
   },
   "source": [
    "## Install requirements"
   ]
  },
  {
   "cell_type": "code",
   "execution_count": null,
   "id": "2a67d658",
   "metadata": {},
   "outputs": [],
   "source": [
    "! pip install -q git+https://github.com/antmicro/renode-colab-tools.git\n",
    "! pip install -q git+https://github.com/antmicro/renode-run.git\n",
    "! pip install -q git+https://github.com/antmicro/pyrenode.git\n",
    "! pip install -q robotframework==4.0.1\n",
    "! renode-run download"
   ]
  },
  {
   "cell_type": "markdown",
   "id": "11c8ba30",
   "metadata": {},
   "source": [
    "## Start Renode"
   ]
  },
  {
   "cell_type": "code",
   "execution_count": null,
   "id": "c59b6bf9",
   "metadata": {},
   "outputs": [],
   "source": [
    "from pyrenode import connect_renode, get_keywords\n",
    "connect_renode()\n",
    "get_keywords()"
   ]
  },
  {
   "cell_type": "markdown",
   "id": "7ac20842",
   "metadata": {},
   "source": [
    "## Setup a script"
   ]
  },
  {
   "cell_type": "code",
   "execution_count": null,
   "id": "ab37b527",
   "metadata": {},
   "outputs": [],
   "source": [
    "%%writefile script.resc\n",
    "\n",
    "using sysbus\n",
    "$name?=\"nucleo_f103rb\"\n",
    "mach create $name\n",
    "\n",
    "machine LoadPlatformDescription @https://zephyr-dashboard.renode.io/nucleo_f103rb-shell_module.repl\n",
    "machine EnableProfiler $ORIGIN/metrics.dump\n",
    "\n",
    "showAnalyzer sysbus.usart2\n",
    "sysbus.usart2 RecordToAsciinema $ORIGIN/output.asciinema\n",
    "\n",
    "macro reset\n",
    "\"\"\"\n",
    "    sysbus LoadELF @https://zephyr-dashboard.renode.io/nucleo_f103rb-zephyr-shell_module.elf\n",
    "    cpu0 VectorTableOffset `sysbus GetSymbolAddress \"_vector_table\"`\n",
    "\"\"\"\n",
    "\n",
    "runMacro $reset"
   ]
  },
  {
   "cell_type": "markdown",
   "id": "5db0a8ac",
   "metadata": {},
   "source": [
    "## Run the sample"
   ]
  },
  {
   "cell_type": "code",
   "execution_count": null,
   "id": "88e38f29",
   "metadata": {},
   "outputs": [],
   "source": [
    "ExecuteScript(\"script.resc\")\n",
    "CreateTerminalTester(\"sysbus.usart2\", timeout=5)\n",
    "StartEmulation()\n",
    "\n",
    "WaitForPromptOnUart(\"uart:~$\")\n",
    "WriteLineToUart(\"\")\n",
    "WaitForPromptOnUart(\"uart:~$\")\n",
    "WriteLineToUart(\"demo board\")\n",
    "WaitForLineOnUart(\"nucleo_f103rb\")\n",
    "\n",
    "ResetEmulation()"
   ]
  },
  {
   "cell_type": "markdown",
   "id": "b4f94ab3",
   "metadata": {},
   "source": [
    "## UART output"
   ]
  },
  {
   "cell_type": "code",
   "execution_count": null,
   "id": "86ba0d6f",
   "metadata": {},
   "outputs": [],
   "source": [
    "from renode_colab_tools import asciinema\n",
    "asciinema.display_asciicast('output.asciinema')"
   ]
  },
  {
   "cell_type": "markdown",
   "id": "169be727",
   "metadata": {},
   "source": [
    "## Renode metrics analysis"
   ]
  },
  {
   "cell_type": "code",
   "execution_count": null,
   "id": "190d01fa",
   "metadata": {},
   "outputs": [],
   "source": [
    "import sys\n",
    "from pathlib import Path\n",
    "sys.path.append(Path('/root/.config/renode/renode-run.path').read_text())\n",
    "\n",
    "from renode_colab_tools import metrics\n",
    "from tools.metrics_analyzer.metrics_parser import MetricsParser\n",
    "metrics.init_notebook_mode(connected=False)\n",
    "parser = MetricsParser('metrics.dump')\n",
    "\n",
    "metrics.display_metrics(parser)"
   ]
  }
 ],
 "metadata": {
  "jupytext": {
   "cell_metadata_filter": "-all"
  },
  "kernelspec": {
   "display_name": "Python 3",
   "name": "python3"
  }
 },
 "nbformat": 4,
 "nbformat_minor": 5
}
