{
 "cells": [
  {
   "cell_type": "markdown",
   "id": "f6d88394",
   "metadata": {
    "cell_marker": "\"\"\""
   },
   "source": [
    "[![Renode](https://dl.antmicro.com/projects/renode/renode.svg)](https://renode.io)\n",
    "\n",
    "[![Run in Google Colab](https://img.shields.io/badge/-Run%20in%20Google%20colab-%23007ded?logo=google-colab&logoColor=white&style=for-the-badge)](https://colab.research.google.com/github/antmicro/test-colabs/blob/main/boards/rak5010_nrf52840_rust-app.ipynb) [![View ipynb](https://img.shields.io/badge/-View%20ipynb%20source-%23007ded?logo=jupyter&logoColor=white&style=for-the-badge)](https://github.com/antmicro/test-colabs/blob/main/boards/rak5010_nrf52840_rust-app.ipynb) [![View Python source](https://img.shields.io/badge/-View%20Python%20source-%23007ded?logo=python&logoColor=white&style=for-the-badge)](https://github.com/antmicro/test-colabs/blob/main/boards/rak5010_nrf52840_rust-app.py)"
   ]
  },
  {
   "cell_type": "markdown",
   "id": "a0b395bd",
   "metadata": {
    "cell_marker": "\"\"\""
   },
   "source": [
    "## Install requirements"
   ]
  },
  {
   "cell_type": "code",
   "execution_count": null,
   "id": "bbbda7f3",
   "metadata": {},
   "outputs": [],
   "source": [
    "! pip install -q git+https://github.com/antmicro/renode-colab-tools.git\n",
    "! pip install -q git+https://github.com/antmicro/renode-run.git\n",
    "! pip install -q git+https://github.com/antmicro/pyrenode.git\n",
    "! renode-run download"
   ]
  },
  {
   "cell_type": "markdown",
   "id": "a0c7aa56",
   "metadata": {},
   "source": [
    "## Start Renode"
   ]
  },
  {
   "cell_type": "code",
   "execution_count": null,
   "id": "7d37fb22",
   "metadata": {},
   "outputs": [],
   "source": [
    "from pyrenode import connect_renode, get_keywords\n",
    "connect_renode()\n",
    "get_keywords()"
   ]
  },
  {
   "cell_type": "markdown",
   "id": "46f7ab8a",
   "metadata": {},
   "source": [
    "## Setup a script"
   ]
  },
  {
   "cell_type": "code",
   "execution_count": null,
   "id": "cf01ecea",
   "metadata": {},
   "outputs": [],
   "source": [
    "%%writefile script.resc\n",
    "\n",
    "using sysbus\n",
    "$name?=\"rak5010_nrf52840\"\n",
    "mach create $name\n",
    "\n",
    "machine LoadPlatformDescription @https://zephyr-dashboard.renode.io/zephyr_sim/99adbadad5a2ccd70ed7e7a483b7615bd043d999/b672f64553038487a18982117c723859240f277e/rak5010_nrf52840/rust-app/rust-app.repl\n",
    "machine EnableProfiler $ORIGIN/metrics.dump\n",
    "\n",
    "showAnalyzer sysbus.uart1\n",
    "sysbus.uart1 RecordToAsciinema $ORIGIN/output.asciinema\n",
    "\n",
    "macro reset\n",
    "\"\"\"\n",
    "    sysbus LoadELF @https://zephyr-dashboard.renode.io/zephyr/99adbadad5a2ccd70ed7e7a483b7615bd043d999/rak5010_nrf52840/rust-app/rust-app.elf\n",
    "    cpu0 VectorTableOffset `sysbus GetSymbolAddress \"_vector_table\"`\n",
    "\"\"\"\n",
    "\n",
    "runMacro $reset"
   ]
  },
  {
   "cell_type": "markdown",
   "id": "c164ce22",
   "metadata": {},
   "source": [
    "## Run the sample"
   ]
  },
  {
   "cell_type": "code",
   "execution_count": null,
   "id": "9701af2e",
   "metadata": {},
   "outputs": [],
   "source": [
    "ExecuteScript(\"script.resc\")\n",
    "CreateTerminalTester(\"sysbus.uart1\", timeout=5)\n",
    "StartEmulation()\n",
    "\n",
    "WaitForLineOnUart(\"*** Booting Zephyr OS build 99adbadad5a2 ***\")\n",
    "WaitForLineOnUart(\"Next call will crash if userspace is working\")\n",
    "WaitForLineOnUart(r\".*ZEPHYR FATAL ERROR.*\", treatAsRegex=True)\n",
    "\n",
    "ResetEmulation()"
   ]
  },
  {
   "cell_type": "markdown",
   "id": "25d83658",
   "metadata": {},
   "source": [
    "## UART output"
   ]
  },
  {
   "cell_type": "code",
   "execution_count": null,
   "id": "0ecf54e9",
   "metadata": {},
   "outputs": [],
   "source": [
    "from renode_colab_tools import asciinema\n",
    "asciinema.display_asciicast('output.asciinema')"
   ]
  },
  {
   "cell_type": "markdown",
   "id": "d7085425",
   "metadata": {},
   "source": [
    "## Renode metrics analysis"
   ]
  },
  {
   "cell_type": "code",
   "execution_count": null,
   "id": "c77f0fa3",
   "metadata": {},
   "outputs": [],
   "source": [
    "import sys\n",
    "from pathlib import Path\n",
    "from renode_run import get_default_renode_path\n",
    "sys.path.append(str(Path(get_default_renode_path()).parent))\n",
    "\n",
    "from renode_colab_tools import metrics\n",
    "from tools.metrics_analyzer.metrics_parser import MetricsParser\n",
    "metrics.init_notebook_mode(connected=False)\n",
    "parser = MetricsParser('metrics.dump')\n",
    "\n",
    "metrics.display_metrics(parser)"
   ]
  }
 ],
 "metadata": {
  "jupytext": {
   "cell_metadata_filter": "-all",
   "main_language": "python",
   "notebook_metadata_filter": "-all"
  },
  "kernelspec": {
   "display_name": "Python 3",
   "name": "python3"
  },
  "language_info": {
   "name": "python"
  }
 },
 "nbformat": 4,
 "nbformat_minor": 5
}
