{
 "cells": [
  {
   "cell_type": "markdown",
   "id": "6d9a6859",
   "metadata": {
    "cell_marker": "\"\"\""
   },
   "source": [
    "![Renode](https://dl.antmicro.com/projects/renode/renode.svg)\n",
    "<table align=\"left\">\n",
    "  <td>\n",
    "    <a target=\"_blank\" href=\"https://colab.research.google.com/github/antmicro/test-colabs/blob/main/boards/quick_feather_philosophers.ipynb\"><img src=\"https://raw.githubusercontent.com/antmicro/test-colabs/main/.static/view-in-colab.png\" />Run in Google Colab</a>\n",
    "  </td>\n",
    "  <td>\n",
    "    <a target=\"_blank\" href=\"https://github.com/antmicro/test-colabs/blob/main/boards/quick_feather_philosophers.ipynb\"><img src=\"https://raw.githubusercontent.com/antmicro/test-colabs/main/.static/view-ipynb.png\" />View ipynb on GitHub</a>\n",
    "  </td>\n",
    "  <td>\n",
    "    <a target=\"_blank\" href=\"https://github.com/antmicro/test-colabs/blob/main/boards/quick_feather_philosophers.py\"><img src=\"https://raw.githubusercontent.com/antmicro/test-colabs/main/.static/view-source.png\" />View Python source on GitHub</a>\n",
    "  </td>\n",
    "</table>"
   ]
  },
  {
   "cell_type": "markdown",
   "id": "ebeb5796",
   "metadata": {
    "cell_marker": "\"\"\""
   },
   "source": [
    "## Install requirements"
   ]
  },
  {
   "cell_type": "code",
   "execution_count": null,
   "id": "e4018d1c",
   "metadata": {},
   "outputs": [],
   "source": [
    "! pip install -q git+https://github.com/antmicro/renode-colab-tools.git@tabbed-metrics\n",
    "! pip install -q git+https://github.com/antmicro/renode-run.git@new-features\n",
    "! pip install -q git+https://github.com/antmicro/pyrenode.git@renode-run-experiments\n",
    "! pip install -q robotframework==4.0.1\n",
    "! renode-run download"
   ]
  },
  {
   "cell_type": "markdown",
   "id": "75bc4488",
   "metadata": {},
   "source": [
    "## Start Renode"
   ]
  },
  {
   "cell_type": "code",
   "execution_count": null,
   "id": "f38c6ead",
   "metadata": {},
   "outputs": [],
   "source": [
    "from pyrenode import connect_renode, get_keywords\n",
    "connect_renode()\n",
    "get_keywords()"
   ]
  },
  {
   "cell_type": "markdown",
   "id": "83188ee8",
   "metadata": {},
   "source": [
    "## Setup a script"
   ]
  },
  {
   "cell_type": "code",
   "execution_count": null,
   "id": "70dfb8c2",
   "metadata": {},
   "outputs": [],
   "source": [
    "%%writefile script.resc\n",
    "\n",
    "using sysbus\n",
    "$name?=\"quick_feather\"\n",
    "mach create $name\n",
    "\n",
    "machine LoadPlatformDescription @https://zephyr-dashboard.renode.io/quick_feather-philosophers.repl\n",
    "machine EnableProfiler $ORIGIN/metrics.dump\n",
    "\n",
    "showAnalyzer sysbus.uart0\n",
    "\n",
    "macro reset\n",
    "\"\"\"\n",
    "    sysbus LoadELF @https://zephyr-dashboard.renode.io/quick_feather-zephyr-philosophers.elf\n",
    "    cpu0 VectorTableOffset `sysbus GetSymbolAddress \"_vector_table\"`\n",
    "\"\"\"\n",
    "\n",
    "runMacro $reset"
   ]
  },
  {
   "cell_type": "markdown",
   "id": "fa0723f2",
   "metadata": {},
   "source": [
    "## Run the sample"
   ]
  },
  {
   "cell_type": "code",
   "execution_count": null,
   "id": "7ede622a",
   "metadata": {},
   "outputs": [],
   "source": [
    "ExecuteCommand(\"include @script.resc\")\n",
    "CreateTerminalTester(\"sysbus.{{uart_name}}\", timeout=5)\n",
    "StartEmulation()\n",
    "\n",
    "WaitForLineOnUart(\"Philosopher 0.*THINKING\", treatAsRegex=True)\n",
    "WaitForLineOnUart(\"Philosopher 0.*HOLDING\", treatAsRegex=True)\n",
    "WaitForLineOnUart(\"Philosopher 0.*EATING\", treatAsRegex=True)\n",
    "print(ExecuteCommand(\"sysbus.{{uart_name}} DumpHistoryBuffer\"))\n",
    "\n",
    "ResetEmulation()"
   ]
  },
  {
   "cell_type": "markdown",
   "id": "9ff6e36d",
   "metadata": {},
   "source": [
    "## Renode metrics analysis"
   ]
  },
  {
   "cell_type": "code",
   "execution_count": null,
   "id": "33803d41",
   "metadata": {},
   "outputs": [],
   "source": [
    "import sys\n",
    "from pathlib import Path\n",
    "sys.path.append(Path('/root/.config/renode/renode-run.path').read_text())\n",
    "\n",
    "from renode_colab_tools import metrics\n",
    "from tools.metrics_analyzer.metrics_parser import MetricsParser\n",
    "metrics.init_notebook_mode(connected=False)\n",
    "parser = MetricsParser('metrics.dump')"
   ]
  },
  {
   "cell_type": "code",
   "execution_count": null,
   "id": "09c0510c",
   "metadata": {},
   "outputs": [],
   "source": [
    "metrics.display_metrics(parser)"
   ]
  }
 ],
 "metadata": {
  "jupytext": {
   "cell_metadata_filter": "-all",
   "main_language": "python",
   "notebook_metadata_filter": "-all"
  }
 },
 "nbformat": 4,
 "nbformat_minor": 5
}
